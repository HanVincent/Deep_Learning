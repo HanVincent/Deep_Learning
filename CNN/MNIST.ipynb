{
 "cells": [
  {
   "cell_type": "code",
   "execution_count": 1,
   "metadata": {},
   "outputs": [],
   "source": [
    "from keras.datasets import mnist\n",
    "from keras.utils import np_utils\n",
    "from keras.models import Sequential\n",
    "from keras.layers import Dense, Flatten, Conv2D, MaxPool2D\n",
    "from keras.optimizers import SGD, Adam\n",
    "import numpy as np\n",
    "import pandas as pd"
   ]
  },
  {
   "cell_type": "code",
   "execution_count": 2,
   "metadata": {},
   "outputs": [],
   "source": [
    "(x_train, y_train), (x_test, y_test) = mnist.load_data()"
   ]
  },
  {
   "cell_type": "code",
   "execution_count": 3,
   "metadata": {},
   "outputs": [
    {
     "name": "stdout",
     "output_type": "stream",
     "text": [
      "train_data_dimension: (60000, 28, 28)\n",
      "train_data: 60000\n",
      "train_label_dimension: (60000,)\n",
      "test_data: 10000\n",
      "test_label_dimension: (10000,)\n"
     ]
    }
   ],
   "source": [
    "print('train_data_dimension:', x_train.shape)\n",
    "print('train_data:', x_train.shape[0])\n",
    "print('train_label_dimension:', y_train.shape)\n",
    "print('test_data:', x_test.shape[0])\n",
    "print('test_label_dimension:', y_test.shape)"
   ]
  },
  {
   "cell_type": "code",
   "execution_count": 12,
   "metadata": {},
   "outputs": [],
   "source": [
    "x_train = x_train.reshape((-1, x_train.shape[1], x_train.shape[2], 1))\n",
    "x_test = x_test.reshape((-1, x_test.shape[1], x_test.shape[2], 1))\n",
    "\n",
    "x_train = x_train / 255\n",
    "x_test = x_test / 255\n",
    "\n",
    "y_train = np_utils.to_categorical(y_train, 10)\n",
    "y_test = np_utils.to_categorical(y_test, 10)"
   ]
  },
  {
   "cell_type": "code",
   "execution_count": 13,
   "metadata": {},
   "outputs": [
    {
     "name": "stdout",
     "output_type": "stream",
     "text": [
      "train_data_dimension: (60000, 28, 28, 1)\n",
      "train_data: 60000\n",
      "train_label_dimension: (60000, 10)\n",
      "test_data: 10000\n",
      "test_label_dimension: (10000, 10)\n"
     ]
    }
   ],
   "source": [
    "print('train_data_dimension:', x_train.shape)\n",
    "print('train_data:', x_train.shape[0])\n",
    "print('train_label_dimension:', y_train.shape)\n",
    "print('test_data:', x_test.shape[0])\n",
    "print('test_label_dimension:', y_test.shape)"
   ]
  },
  {
   "cell_type": "code",
   "execution_count": 14,
   "metadata": {},
   "outputs": [],
   "source": [
    "model = Sequential()\n",
    "\n",
    "model.add(Conv2D(filters=6, kernel_size=(5, 5), padding='valid', input_shape=(28,28,1), activation='relu'))\n",
    "model.add(MaxPool2D(pool_size=(2,2)))\n",
    "\n",
    "model.add(Conv2D(filters=16, kernel_size=(5, 5), padding='valid', activation='relu'))\n",
    "model.add(MaxPool2D(pool_size=(2,2)))\n",
    "\n",
    "model.add(Flatten()) # 4*4*16 = 256\n",
    "\n",
    "# add fully connected layer\n",
    "model.add(Dense(120, activation='relu'))\n",
    "model.add(Dense(84, activation='relu'))\n",
    "\n",
    "# output layer\n",
    "model.add(Dense(10, activation='softmax'))"
   ]
  },
  {
   "cell_type": "code",
   "execution_count": 15,
   "metadata": {},
   "outputs": [],
   "source": [
    "model.compile(loss='categorical_crossentropy', optimizer=SGD(lr=0.1), metrics=['accuracy'])"
   ]
  },
  {
   "cell_type": "code",
   "execution_count": 16,
   "metadata": {},
   "outputs": [
    {
     "name": "stdout",
     "output_type": "stream",
     "text": [
      "Train on 48000 samples, validate on 12000 samples\n",
      "Epoch 1/20\n",
      "48000/48000 [==============================] - 6s 123us/step - loss: 0.4021 - acc: 0.8720 - val_loss: 0.1343 - val_acc: 0.9565\n",
      "Epoch 2/20\n",
      "48000/48000 [==============================] - 3s 54us/step - loss: 0.1026 - acc: 0.9671 - val_loss: 0.0778 - val_acc: 0.9759\n",
      "Epoch 3/20\n",
      "48000/48000 [==============================] - 3s 55us/step - loss: 0.0714 - acc: 0.9775 - val_loss: 0.0683 - val_acc: 0.9796\n",
      "Epoch 4/20\n",
      "48000/48000 [==============================] - 3s 55us/step - loss: 0.0583 - acc: 0.9816 - val_loss: 0.0717 - val_acc: 0.9787\n",
      "Epoch 5/20\n",
      "48000/48000 [==============================] - 3s 55us/step - loss: 0.0477 - acc: 0.9848 - val_loss: 0.0617 - val_acc: 0.9818\n",
      "Epoch 6/20\n",
      "48000/48000 [==============================] - 3s 55us/step - loss: 0.0410 - acc: 0.9865 - val_loss: 0.0583 - val_acc: 0.9838\n",
      "Epoch 7/20\n",
      "48000/48000 [==============================] - 3s 55us/step - loss: 0.0351 - acc: 0.9884 - val_loss: 0.0560 - val_acc: 0.9837\n",
      "Epoch 8/20\n",
      "48000/48000 [==============================] - 3s 54us/step - loss: 0.0311 - acc: 0.9901 - val_loss: 0.0532 - val_acc: 0.9856\n",
      "Epoch 9/20\n",
      "48000/48000 [==============================] - 3s 55us/step - loss: 0.0279 - acc: 0.9906 - val_loss: 0.0530 - val_acc: 0.9850\n",
      "Epoch 10/20\n",
      "48000/48000 [==============================] - 3s 56us/step - loss: 0.0231 - acc: 0.9924 - val_loss: 0.0631 - val_acc: 0.9818\n",
      "Epoch 11/20\n",
      "48000/48000 [==============================] - 4s 84us/step - loss: 0.0206 - acc: 0.9935 - val_loss: 0.0545 - val_acc: 0.9855\n",
      "Epoch 12/20\n",
      "48000/48000 [==============================] - 3s 55us/step - loss: 0.0197 - acc: 0.9939 - val_loss: 0.0547 - val_acc: 0.9857\n",
      "Epoch 13/20\n",
      "48000/48000 [==============================] - 3s 55us/step - loss: 0.0156 - acc: 0.9951 - val_loss: 0.0537 - val_acc: 0.9853\n",
      "Epoch 14/20\n",
      "48000/48000 [==============================] - 3s 55us/step - loss: 0.0146 - acc: 0.9951 - val_loss: 0.0564 - val_acc: 0.9850\n",
      "Epoch 15/20\n",
      "48000/48000 [==============================] - 3s 55us/step - loss: 0.0131 - acc: 0.9957 - val_loss: 0.0582 - val_acc: 0.9855\n",
      "Epoch 16/20\n",
      "48000/48000 [==============================] - 3s 56us/step - loss: 0.0109 - acc: 0.9968 - val_loss: 0.0521 - val_acc: 0.9869\n",
      "Epoch 17/20\n",
      "48000/48000 [==============================] - 3s 55us/step - loss: 0.0098 - acc: 0.9969 - val_loss: 0.0577 - val_acc: 0.9868\n",
      "Epoch 18/20\n",
      "48000/48000 [==============================] - 3s 55us/step - loss: 0.0093 - acc: 0.9969 - val_loss: 0.0555 - val_acc: 0.9874\n",
      "Epoch 19/20\n",
      "48000/48000 [==============================] - 3s 55us/step - loss: 0.0071 - acc: 0.9982 - val_loss: 0.0569 - val_acc: 0.9869\n",
      "Epoch 20/20\n",
      "48000/48000 [==============================] - 3s 55us/step - loss: 0.0059 - acc: 0.9984 - val_loss: 0.0572 - val_acc: 0.9876\n"
     ]
    }
   ],
   "source": [
    "history = model.fit(x_train, y_train, batch_size=128, epochs=20, validation_split=0.2)"
   ]
  },
  {
   "cell_type": "code",
   "execution_count": 22,
   "metadata": {},
   "outputs": [],
   "source": [
    "#  產生圖面(acc，val)\n",
    "import matplotlib.pyplot as plt\n",
    "def model_history_plot(history, epoch):\n",
    "    \"\"\"\n",
    "    history:訓練記錄，為keras.History.history\n",
    "    epoch:迭代次數，為keras.History.epoch\n",
    "    \n",
    "    首先判斷物件長度是否為4，如果是那代表有啟用驗證資料集，若為2，就代表只有訓練資料集。\n",
    "    \"\"\"\n",
    "    #  用以判斷是否有驗證資料集，如果dict長度為4則賦值為True\n",
    "    val = False\n",
    "    \n",
    "    if len(history)==4:\n",
    "        val = True\n",
    "        val_acc = history['val_acc']\n",
    "        val_loss = history['val_loss']\n",
    "        \n",
    "    acc = history['acc']\n",
    "    loss = history['loss']\n",
    "       \n",
    "    #  設置圖表\n",
    "    plt.figure(figsize=(16,9))\n",
    "    \n",
    "    #  準確度_acc\n",
    "    plt.subplot(121)\n",
    "    plt.xlabel('epoch')\n",
    "    plt.ylabel('acc')\n",
    "    plt.xlim(min(epoch), max(epoch)+1)\n",
    "    plt.plot(epoch, acc, label='train_acc')\n",
    "    \n",
    "    if val:\n",
    "        plt.plot(epoch, val_acc, label='val_cc')\n",
    "    plt.legend(loc='best')\n",
    "    \n",
    "    #  訓練成本_loss\n",
    "    plt.subplot(122)    \n",
    "    plt.xlabel('epoch')\n",
    "    plt.ylabel('loss')\n",
    "    plt.xlim(min(epoch), max(epoch)+1)\n",
    "    plt.plot(epoch, loss, label='train_loss')\n",
    "    \n",
    "    if val:\n",
    "        plt.plot(epoch, val_loss, label='val_loss')            \n",
    "    plt.legend(loc='best')\n",
    "    \n",
    "    plt.tight_layout()\n",
    "    plt.show()"
   ]
  },
  {
   "cell_type": "code",
   "execution_count": 27,
   "metadata": {},
   "outputs": [],
   "source": [
    "def utils_predict(model, datasets, evaluate=True, need_prob=False):\n",
    "    \"\"\"\n",
    "    keras預測之後回傳為概率，透過此function可轉為類別\n",
    "    再依需求調控是否回傳概率與模型效能評估\n",
    "    \n",
    "    model:keras.model，訓練之後的模型\n",
    "    datasets:資料集，格式為dict，索引名稱必需為X_train, X_test, y_train, y_test\n",
    "        datasets:\n",
    "            'X_train':train_dataset\n",
    "            'X_test':test_dataset\n",
    "            'y_train':train_label\n",
    "            'y_test':test_label\n",
    "    evaluate:是否執行model.evaluate，如果是，那資料集就必需有y_train與y_test\n",
    "    need_prob:是否回傳概率\n",
    "    \n",
    "    return datasets\n",
    "        預測類別：\n",
    "            train_predict, test_predict\n",
    "        預測概率：\n",
    "            train_predict_prob, test_predict_prob\n",
    "        模型評估：\n",
    "            train_score, test_score\n",
    "        \n",
    "    datasets:dict    \n",
    "    \"\"\"\n",
    "    train_dataset = datasets['X_train']\n",
    "    test_dataset = datasets['X_test']\n",
    "    \n",
    "    train_prob = model.predict(train_dataset, verbose=1)\n",
    "    test_prob = model.predict(test_dataset, verbose=1)\n",
    "    \n",
    "    train_labels = train_prob.argmax(axis=-1)\n",
    "    test_labels = test_prob.argmax(axis=-1)\n",
    "    \n",
    "    datasets['train_predict'] = train_labels\n",
    "    datasets['test_predict'] = test_labels\n",
    "    \n",
    "    if evaluate:\n",
    "        scores_train = model.evaluate(x_train, y_train)\n",
    "        scores_test = model.evaluate(x_test, y_test)\n",
    "        datasets['train_score'] = scores_train[1]\n",
    "        datasets['test_score'] = scores_test[1]\n",
    "        \n",
    "    if need_prob:\n",
    "        datasets['train_predict_prob'] = train_prob\n",
    "        datasets['test_predict_prob'] = test_prob\n",
    "        \n",
    "    \n",
    "    return datasets"
   ]
  },
  {
   "cell_type": "code",
   "execution_count": 28,
   "metadata": {},
   "outputs": [
    {
     "data": {
      "image/png": "[encoded data removed]",
      "text/plain": [
       "<Figure size 1152x648 with 2 Axes>"
      ]
     },
     "metadata": {},
     "output_type": "display_data"
    }
   ],
   "source": [
    "model_history_plot(history=history.history, epoch=history.epoch)"
   ]
  },
  {
   "cell_type": "code",
   "execution_count": 29,
   "metadata": {},
   "outputs": [
    {
     "name": "stdout",
     "output_type": "stream",
     "text": [
      "60000/60000 [==============================] - 3s 57us/step\n",
      "10000/10000 [==============================] - 2s 187us/step\n",
      "60000/60000 [==============================] - 5s 79us/step\n",
      "10000/10000 [==============================] - 1s 77us/step\n"
     ]
    }
   ],
   "source": [
    "ds_predict = utils_predict(model, {'X_train': x_train, 'X_test':x_test, 'y_train':y_train, 'y_test':y_test})"
   ]
  },
  {
   "cell_type": "code",
   "execution_count": 30,
   "metadata": {},
   "outputs": [
    {
     "name": "stdout",
     "output_type": "stream",
     "text": [
      "train_score: 0.9964\n",
      "tes_score: 0.9874\n"
     ]
    }
   ],
   "source": [
    "print('train_score:', ds_predict['train_score'])\n",
    "print('tes_score:', ds_predict['test_score'])"
   ]
  },
  {
   "cell_type": "code",
   "execution_count": null,
   "metadata": {},
   "outputs": [],
   "source": []
  },
  {
   "cell_type": "code",
   "execution_count": null,
   "metadata": {},
   "outputs": [],
   "source": []
  }
 ],
 "metadata": {
  "kernelspec": {
   "display_name": "Python 3",
   "language": "python",
   "name": "python3"
  },
  "language_info": {
   "codemirror_mode": {
    "name": "ipython",
    "version": 3
   },
   "file_extension": ".py",
   "mimetype": "text/x-python",
   "name": "python",
   "nbconvert_exporter": "python",
   "pygments_lexer": "ipython3",
   "version": "3.5.2"
  }
 },
 "nbformat": 4,
 "nbformat_minor": 2
}
