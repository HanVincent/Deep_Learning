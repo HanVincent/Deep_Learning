{
 "cells": [
  {
   "cell_type": "code",
   "execution_count": 4,
   "metadata": {},
   "outputs": [
    {
     "name": "stderr",
     "output_type": "stream",
     "text": [
      "Using TensorFlow backend.\n"
     ]
    },
    {
     "name": "stdout",
     "output_type": "stream",
     "text": [
      "Classic stacked LSTM: 35s/epoch on CPU\n",
      "Epoch 1/4\n",
      "10000/10000 [==============================] - 30s 3ms/step - loss: 0.0948\n",
      "Epoch 2/4\n",
      "10000/10000 [==============================] - 29s 3ms/step - loss: 0.0837\n",
      "Epoch 3/4\n",
      "10000/10000 [==============================] - 29s 3ms/step - loss: 0.0837\n",
      "Epoch 4/4\n",
      "10000/10000 [==============================] - 29s 3ms/step - loss: 0.0836\n",
      "New stacked LSTM: 30s/epoch on CPU (15pct faster)\n",
      "Epoch 1/4\n",
      "10000/10000 [==============================] - 25s 3ms/step - loss: 0.0936\n",
      "Epoch 2/4\n",
      "10000/10000 [==============================] - 24s 2ms/step - loss: 0.0837\n",
      "Epoch 3/4\n",
      "10000/10000 [==============================] - 24s 2ms/step - loss: 0.0837\n",
      "Epoch 4/4\n",
      "10000/10000 [==============================] - 23s 2ms/step - loss: 0.0836\n"
     ]
    },
    {
     "data": {
      "text/plain": [
       "<keras.callbacks.History at 0x7f31894f07b8>"
      ]
     },
     "execution_count": 4,
     "metadata": {},
     "output_type": "execute_result"
    }
   ],
   "source": [
    "import keras\n",
    "import numpy as np\n",
    "\n",
    "timesteps = 60\n",
    "input_dim = 64\n",
    "samples = 10000\n",
    "batch_size = 128\n",
    "output_dim = 64\n",
    "\n",
    "# Test data.\n",
    "x_np = np.random.random((samples, timesteps, input_dim))\n",
    "y_np = np.random.random((samples, output_dim))\n",
    "\n",
    "print('Classic stacked LSTM: 35s/epoch on CPU')\n",
    "inputs = keras.Input((timesteps, input_dim))\n",
    "x = keras.layers.LSTM(output_dim, return_sequences=True)(inputs)\n",
    "x = keras.layers.LSTM(output_dim, return_sequences=True)(x)\n",
    "x = keras.layers.LSTM(output_dim)(x)\n",
    "\n",
    "classic_model = keras.models.Model(inputs, x)\n",
    "classic_model.compile(optimizer='rmsprop', loss='mse')\n",
    "classic_model.fit(x_np, y_np, batch_size=batch_size, epochs=4)\n",
    "\n",
    "print('New stacked LSTM: 30s/epoch on CPU (15pct faster)')\n",
    "cells = [\n",
    "    keras.layers.LSTMCell(output_dim),\n",
    "    keras.layers.LSTMCell(output_dim),\n",
    "    keras.layers.LSTMCell(output_dim),\n",
    "]\n",
    "\n",
    "inputs = keras.Input((timesteps, input_dim))\n",
    "x = keras.layers.RNN(cells)(inputs)\n",
    "\n",
    "new_model = keras.models.Model(inputs, x)\n",
    "new_model.compile(optimizer='rmsprop', loss='mse')\n",
    "new_model.fit(x_np, y_np, batch_size=batch_size, epochs=4)"
   ]
  },
  {
   "cell_type": "code",
   "execution_count": null,
   "metadata": {},
   "outputs": [],
   "source": []
  }
 ],
 "metadata": {
  "kernelspec": {
   "display_name": "Python 3",
   "language": "python",
   "name": "python3"
  },
  "language_info": {
   "codemirror_mode": {
    "name": "ipython",
    "version": 3
   },
   "file_extension": ".py",
   "mimetype": "text/x-python",
   "name": "python",
   "nbconvert_exporter": "python",
   "pygments_lexer": "ipython3",
   "version": "3.6.6"
  }
 },
 "nbformat": 4,
 "nbformat_minor": 2
}
