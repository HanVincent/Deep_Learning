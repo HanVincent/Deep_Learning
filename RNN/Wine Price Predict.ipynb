{
 "cells": [
  {
   "cell_type": "code",
   "execution_count": 27,
   "metadata": {},
   "outputs": [
    {
     "name": "stdout",
     "output_type": "stream",
     "text": [
      "You have TensorFlow version 1.6.0\n"
     ]
    }
   ],
   "source": [
    "import os, math\n",
    "import numpy as np\n",
    "import pandas as pd\n",
    "import tensorflow as tf\n",
    "\n",
    "from sklearn.preprocessing import LabelEncoder\n",
    "from tensorflow import keras\n",
    "layers = keras.layers\n",
    "\n",
    "print(\"You have TensorFlow version\", tf.__version__)"
   ]
  },
  {
   "cell_type": "code",
   "execution_count": 26,
   "metadata": {},
   "outputs": [],
   "source": [
    "# Get the data: original source is here: https://www.kaggle.com/zynicide/wine-reviews/data\n",
    "URL = \"https://storage.googleapis.com/sara-cloud-ml/wine_data.csv\"\n",
    "path = tf.keras.utils.get_file(URL.split('/')[-1], URL)"
   ]
  },
  {
   "cell_type": "code",
   "execution_count": 81,
   "metadata": {},
   "outputs": [],
   "source": [
    "data = pd.read_csv(path)"
   ]
  },
  {
   "cell_type": "code",
   "execution_count": 82,
   "metadata": {},
   "outputs": [
    {
     "data": {
      "text/html": [
       "<div>\n",
       "<style scoped>\n",
       "    .dataframe tbody tr th:only-of-type {\n",
       "        vertical-align: middle;\n",
       "    }\n",
       "\n",
       "    .dataframe tbody tr th {\n",
       "        vertical-align: top;\n",
       "    }\n",
       "\n",
       "    .dataframe thead th {\n",
       "        text-align: right;\n",
       "    }\n",
       "</style>\n",
       "<table border=\"1\" class=\"dataframe\">\n",
       "  <thead>\n",
       "    <tr style=\"text-align: right;\">\n",
       "      <th></th>\n",
       "      <th>Unnamed: 0</th>\n",
       "      <th>country</th>\n",
       "      <th>description</th>\n",
       "      <th>designation</th>\n",
       "      <th>points</th>\n",
       "      <th>price</th>\n",
       "      <th>province</th>\n",
       "      <th>region_1</th>\n",
       "      <th>region_2</th>\n",
       "      <th>variety</th>\n",
       "      <th>winery</th>\n",
       "    </tr>\n",
       "  </thead>\n",
       "  <tbody>\n",
       "    <tr>\n",
       "      <th>66190</th>\n",
       "      <td>66190</td>\n",
       "      <td>New Zealand</td>\n",
       "      <td>Honey, melon, pineapple, apricot and vanilla a...</td>\n",
       "      <td>NaN</td>\n",
       "      <td>85</td>\n",
       "      <td>15.0</td>\n",
       "      <td>Marlborough</td>\n",
       "      <td>NaN</td>\n",
       "      <td>NaN</td>\n",
       "      <td>Chardonnay</td>\n",
       "      <td>Cairnbrae</td>\n",
       "    </tr>\n",
       "    <tr>\n",
       "      <th>16041</th>\n",
       "      <td>16041</td>\n",
       "      <td>US</td>\n",
       "      <td>La Fenetre scores with this lush, forward Pino...</td>\n",
       "      <td>Le Bon Climat Vineyard</td>\n",
       "      <td>91</td>\n",
       "      <td>59.0</td>\n",
       "      <td>California</td>\n",
       "      <td>Santa Maria Valley</td>\n",
       "      <td>Central Coast</td>\n",
       "      <td>Pinot Noir</td>\n",
       "      <td>La Fenêtre</td>\n",
       "    </tr>\n",
       "    <tr>\n",
       "      <th>125412</th>\n",
       "      <td>125412</td>\n",
       "      <td>Italy</td>\n",
       "      <td>There's a meaty or slightly burned quality her...</td>\n",
       "      <td>Passo del Lupo</td>\n",
       "      <td>88</td>\n",
       "      <td>30.0</td>\n",
       "      <td>Central Italy</td>\n",
       "      <td>Conero Riserva</td>\n",
       "      <td>NaN</td>\n",
       "      <td>Montepulciano</td>\n",
       "      <td>Fazi Battaglia</td>\n",
       "    </tr>\n",
       "    <tr>\n",
       "      <th>77727</th>\n",
       "      <td>77727</td>\n",
       "      <td>France</td>\n",
       "      <td>89–91. Barrel sample. The wine has good acidit...</td>\n",
       "      <td>Barrel Sample</td>\n",
       "      <td>90</td>\n",
       "      <td>NaN</td>\n",
       "      <td>Bordeaux</td>\n",
       "      <td>Sauternes</td>\n",
       "      <td>NaN</td>\n",
       "      <td>Bordeaux-style White Blend</td>\n",
       "      <td>Château Rabaud-Promis</td>\n",
       "    </tr>\n",
       "    <tr>\n",
       "      <th>118334</th>\n",
       "      <td>118334</td>\n",
       "      <td>US</td>\n",
       "      <td>New smoky oak dominates this Chardonnay. Under...</td>\n",
       "      <td>Searby Vineyard</td>\n",
       "      <td>85</td>\n",
       "      <td>45.0</td>\n",
       "      <td>California</td>\n",
       "      <td>Russian River Valley</td>\n",
       "      <td>Sonoma</td>\n",
       "      <td>Chardonnay</td>\n",
       "      <td>Nickel &amp; Nickel</td>\n",
       "    </tr>\n",
       "  </tbody>\n",
       "</table>\n",
       "</div>"
      ],
      "text/plain": [
       "        Unnamed: 0      country  \\\n",
       "66190        66190  New Zealand   \n",
       "16041        16041           US   \n",
       "125412      125412        Italy   \n",
       "77727        77727       France   \n",
       "118334      118334           US   \n",
       "\n",
       "                                              description  \\\n",
       "66190   Honey, melon, pineapple, apricot and vanilla a...   \n",
       "16041   La Fenetre scores with this lush, forward Pino...   \n",
       "125412  There's a meaty or slightly burned quality her...   \n",
       "77727   89–91. Barrel sample. The wine has good acidit...   \n",
       "118334  New smoky oak dominates this Chardonnay. Under...   \n",
       "\n",
       "                   designation  points  price       province  \\\n",
       "66190                      NaN      85   15.0    Marlborough   \n",
       "16041   Le Bon Climat Vineyard      91   59.0     California   \n",
       "125412          Passo del Lupo      88   30.0  Central Italy   \n",
       "77727            Barrel Sample      90    NaN       Bordeaux   \n",
       "118334         Searby Vineyard      85   45.0     California   \n",
       "\n",
       "                    region_1       region_2                     variety  \\\n",
       "66190                    NaN            NaN                  Chardonnay   \n",
       "16041     Santa Maria Valley  Central Coast                  Pinot Noir   \n",
       "125412        Conero Riserva            NaN               Montepulciano   \n",
       "77727              Sauternes            NaN  Bordeaux-style White Blend   \n",
       "118334  Russian River Valley         Sonoma                  Chardonnay   \n",
       "\n",
       "                       winery  \n",
       "66190               Cairnbrae  \n",
       "16041              La Fenêtre  \n",
       "125412         Fazi Battaglia  \n",
       "77727   Château Rabaud-Promis  \n",
       "118334        Nickel & Nickel  "
      ]
     },
     "execution_count": 82,
     "metadata": {},
     "output_type": "execute_result"
    }
   ],
   "source": [
    "# Shuffle the data\n",
    "data = data.sample(frac=1)\n",
    "\n",
    "# first 5\n",
    "data.head()"
   ]
  },
  {
   "cell_type": "code",
   "execution_count": 83,
   "metadata": {},
   "outputs": [],
   "source": [
    "# Clean data\n",
    "data = data[pd.notnull(data['country'])]\n",
    "data = data[pd.notnull(data['price'])]\n",
    "data = data.drop(data.columns[0], axis=1)"
   ]
  },
  {
   "cell_type": "code",
   "execution_count": 89,
   "metadata": {},
   "outputs": [],
   "source": [
    "variety_threshold = 1000 # Anything that occurs less than this will be removed.\n",
    "value_counts = data['variety'].value_counts()\n",
    "to_remove = value_counts[value_counts <= variety_threshold].index\n",
    "data.replace(to_remove, np.nan, inplace=True)\n",
    "data = data[pd.notnull(data['variety'])]"
   ]
  },
  {
   "cell_type": "code",
   "execution_count": 90,
   "metadata": {},
   "outputs": [
    {
     "name": "stdout",
     "output_type": "stream",
     "text": [
      "Train size: 87340\n",
      "Test size: 21836\n"
     ]
    }
   ],
   "source": [
    "train_size = int(len(data) * .8)\n",
    "print(\"Train size: %d\" % (train_size))\n",
    "print(\"Test size: %d\" % ((len(data) - train_size))) "
   ]
  },
  {
   "cell_type": "code",
   "execution_count": 91,
   "metadata": {},
   "outputs": [],
   "source": [
    "# Train features\n",
    "description_train = data['description'][:train_size]\n",
    "variety_train = data['variety'][:train_size]\n",
    "\n",
    "# Train labels\n",
    "labels_train = data['price'][:train_size]\n",
    "\n",
    "# Test features\n",
    "description_test = data['description'][train_size:]\n",
    "variety_test = data['variety'][train_size:]\n",
    "\n",
    "# Test labels\n",
    "labels_test = data['price'][train_size:]"
   ]
  },
  {
   "cell_type": "code",
   "execution_count": 92,
   "metadata": {},
   "outputs": [],
   "source": [
    "vocab_size = 12000\n",
    "tokenizer = keras.preprocessing.text.Tokenizer(num_words=vocab_size, char_level=False)\n",
    "tokenizer.fit_on_texts(description_train)"
   ]
  },
  {
   "cell_type": "code",
   "execution_count": 93,
   "metadata": {},
   "outputs": [],
   "source": [
    "description_bow_train = tokenizer.texts_to_matrix(description_train)\n",
    "description_bow_test  = tokenizer.texts_to_matrix(description_test)"
   ]
  },
  {
   "cell_type": "code",
   "execution_count": 94,
   "metadata": {},
   "outputs": [],
   "source": [
    "# Wide feature 2: one-hot vector of variety categories\n",
    "\n",
    "# Use sklearn utility to convert label strings to numbered index\n",
    "encoder = LabelEncoder()\n",
    "encoder.fit(variety_train)\n",
    "variety_train = encoder.transform(variety_train)\n",
    "variety_test = encoder.transform(variety_test)\n",
    "num_classes = np.max(variety_train) + 1\n",
    "\n",
    "# Convert labels to one hot\n",
    "variety_train = keras.utils.to_categorical(variety_train, num_classes)\n",
    "variety_test = keras.utils.to_categorical(variety_test, num_classes)"
   ]
  },
  {
   "cell_type": "code",
   "execution_count": 97,
   "metadata": {},
   "outputs": [],
   "source": [
    "# Define our wide model with the functional API\n",
    "bow_inputs = layers.Input(shape=(vocab_size,))\n",
    "variety_inputs = layers.Input(shape=(num_classes,))\n",
    "merged_layers = layers.concatenate([bow_inputs, variety_inputs])\n",
    "merged_layers = layers.Dense(256, activation='relu')(merged_layers)\n",
    "predictions = layers.Dense(1)(merged_layers)\n",
    "wide_model = keras.Model(inputs=[bow_inputs, variety_inputs], outputs=predictions)"
   ]
  },
  {
   "cell_type": "code",
   "execution_count": 98,
   "metadata": {},
   "outputs": [
    {
     "name": "stdout",
     "output_type": "stream",
     "text": [
      "__________________________________________________________________________________________________\n",
      "Layer (type)                    Output Shape         Param #     Connected to                     \n",
      "==================================================================================================\n",
      "input_1 (InputLayer)            (None, 12000)        0                                            \n",
      "__________________________________________________________________________________________________\n",
      "input_2 (InputLayer)            (None, 26)           0                                            \n",
      "__________________________________________________________________________________________________\n",
      "concatenate_1 (Concatenate)     (None, 12026)        0           input_1[0][0]                    \n",
      "                                                                 input_2[0][0]                    \n",
      "__________________________________________________________________________________________________\n",
      "dense_1 (Dense)                 (None, 256)          3078912     concatenate_1[0][0]              \n",
      "__________________________________________________________________________________________________\n",
      "dense_2 (Dense)                 (None, 1)            257         dense_1[0][0]                    \n",
      "==================================================================================================\n",
      "Total params: 3,079,169\n",
      "Trainable params: 3,079,169\n",
      "Non-trainable params: 0\n",
      "__________________________________________________________________________________________________\n",
      "None\n"
     ]
    }
   ],
   "source": [
    "wide_model.compile(loss='mse', optimizer='adam', metrics=['accuracy'])\n",
    "print(wide_model.summary())"
   ]
  },
  {
   "cell_type": "code",
   "execution_count": 101,
   "metadata": {},
   "outputs": [],
   "source": [
    "# Deep model feature: word embeddings of wine descriptions\n",
    "train_embed = tokenizer.texts_to_sequences(description_train)\n",
    "test_embed  = tokenizer.texts_to_sequences(description_test)\n",
    "\n",
    "max_seq_length = 170\n",
    "train_embed = keras.preprocessing.sequence.pad_sequences(\n",
    "    train_embed, maxlen=max_seq_length, padding='post')\n",
    "test_embed = keras.preprocessing.sequence.pad_sequences(\n",
    "    test_embed, maxlen=max_seq_length, padding='post')"
   ]
  },
  {
   "cell_type": "code",
   "execution_count": 102,
   "metadata": {},
   "outputs": [
    {
     "name": "stdout",
     "output_type": "stream",
     "text": [
      "_________________________________________________________________\n",
      "Layer (type)                 Output Shape              Param #   \n",
      "=================================================================\n",
      "input_3 (InputLayer)         (None, 170)               0         \n",
      "_________________________________________________________________\n",
      "embedding_1 (Embedding)      (None, 170, 8)            96000     \n",
      "_________________________________________________________________\n",
      "flatten_1 (Flatten)          (None, 1360)              0         \n",
      "_________________________________________________________________\n",
      "dense_3 (Dense)              (None, 1)                 1361      \n",
      "=================================================================\n",
      "Total params: 97,361\n",
      "Trainable params: 97,361\n",
      "Non-trainable params: 0\n",
      "_________________________________________________________________\n",
      "None\n"
     ]
    }
   ],
   "source": [
    "# Define our deep model with the Functional API\n",
    "deep_inputs = layers.Input(shape=(max_seq_length,))\n",
    "embedding = layers.Embedding(vocab_size, 8, input_length=max_seq_length)(deep_inputs)\n",
    "embedding = layers.Flatten()(embedding)\n",
    "embed_out = layers.Dense(1)(embedding)\n",
    "deep_model = keras.Model(inputs=deep_inputs, outputs=embed_out)\n",
    "print(deep_model.summary())"
   ]
  },
  {
   "cell_type": "code",
   "execution_count": 104,
   "metadata": {},
   "outputs": [],
   "source": [
    "deep_model.compile(loss='mse', optimizer='adam', metrics=['accuracy'])"
   ]
  },
  {
   "cell_type": "code",
   "execution_count": 105,
   "metadata": {},
   "outputs": [
    {
     "name": "stdout",
     "output_type": "stream",
     "text": [
      "__________________________________________________________________________________________________\n",
      "Layer (type)                    Output Shape         Param #     Connected to                     \n",
      "==================================================================================================\n",
      "input_1 (InputLayer)            (None, 12000)        0                                            \n",
      "__________________________________________________________________________________________________\n",
      "input_2 (InputLayer)            (None, 26)           0                                            \n",
      "__________________________________________________________________________________________________\n",
      "input_3 (InputLayer)            (None, 170)          0                                            \n",
      "__________________________________________________________________________________________________\n",
      "concatenate_1 (Concatenate)     (None, 12026)        0           input_1[0][0]                    \n",
      "                                                                 input_2[0][0]                    \n",
      "__________________________________________________________________________________________________\n",
      "embedding_1 (Embedding)         (None, 170, 8)       96000       input_3[0][0]                    \n",
      "__________________________________________________________________________________________________\n",
      "dense_1 (Dense)                 (None, 256)          3078912     concatenate_1[0][0]              \n",
      "__________________________________________________________________________________________________\n",
      "flatten_1 (Flatten)             (None, 1360)         0           embedding_1[0][0]                \n",
      "__________________________________________________________________________________________________\n",
      "dense_2 (Dense)                 (None, 1)            257         dense_1[0][0]                    \n",
      "__________________________________________________________________________________________________\n",
      "dense_3 (Dense)                 (None, 1)            1361        flatten_1[0][0]                  \n",
      "__________________________________________________________________________________________________\n",
      "concatenate_2 (Concatenate)     (None, 2)            0           dense_2[0][0]                    \n",
      "                                                                 dense_3[0][0]                    \n",
      "__________________________________________________________________________________________________\n",
      "dense_4 (Dense)                 (None, 1)            3           concatenate_2[0][0]              \n",
      "==================================================================================================\n",
      "Total params: 3,176,533\n",
      "Trainable params: 3,176,533\n",
      "Non-trainable params: 0\n",
      "__________________________________________________________________________________________________\n",
      "None\n"
     ]
    }
   ],
   "source": [
    "# Combine wide and deep into one model\n",
    "merged_out = layers.concatenate([wide_model.output, deep_model.output])\n",
    "merged_out = layers.Dense(1)(merged_out)\n",
    "combined_model = keras.Model(wide_model.input + [deep_model.input], merged_out)\n",
    "print(combined_model.summary())\n",
    "\n",
    "combined_model.compile(loss='mse', optimizer='adam', metrics=['accuracy'])"
   ]
  },
  {
   "cell_type": "code",
   "execution_count": 106,
   "metadata": {},
   "outputs": [
    {
     "name": "stdout",
     "output_type": "stream",
     "text": [
      "Epoch 1/10\n",
      "87340/87340 [==============================]87340/87340 [==============================] - 16s 183us/step - loss: 1159.0824 - acc: 0.0264\n",
      "\n",
      "Epoch 2/10\n",
      "87340/87340 [==============================]87340/87340 [==============================] - 9s 107us/step - loss: 908.8975 - acc: 0.0357\n",
      "\n",
      "Epoch 3/10\n",
      "87340/87340 [==============================]87340/87340 [==============================] - 10s 115us/step - loss: 772.9718 - acc: 0.0401\n",
      "\n",
      "Epoch 4/10\n",
      "87340/87340 [==============================]87340/87340 [==============================] - 9s 103us/step - loss: 651.5912 - acc: 0.0455\n",
      "\n",
      "Epoch 5/10\n",
      "87340/87340 [==============================]87340/87340 [==============================] - 8s 96us/step - loss: 535.4186 - acc: 0.0493\n",
      "\n",
      "Epoch 6/10\n",
      "87340/87340 [==============================]87340/87340 [==============================] - 10s 119us/step - loss: 430.3637 - acc: 0.0564\n",
      "\n",
      "Epoch 7/10\n",
      "87340/87340 [==============================]87340/87340 [==============================] - 9s 98us/step - loss: 337.8384 - acc: 0.0640\n",
      "\n",
      "Epoch 8/10\n",
      "87340/87340 [==============================]87340/87340 [==============================] - 9s 103us/step - loss: 265.2823 - acc: 0.0738\n",
      "\n",
      "Epoch 9/10\n",
      "87340/87340 [==============================]87340/87340 [==============================] - 9s 98us/step - loss: 206.3664 - acc: 0.0869\n",
      "\n",
      "Epoch 10/10\n",
      "87340/87340 [==============================]87340/87340 [==============================] - 10s 120us/step - loss: 164.5310 - acc: 0.0974\n",
      "\n"
     ]
    },
    {
     "data": {
      "text/plain": [
       "<tensorflow.python.keras._impl.keras.callbacks.History at 0x7fa5cbe2f588>"
      ]
     },
     "execution_count": 106,
     "metadata": {},
     "output_type": "execute_result"
    }
   ],
   "source": [
    "# Running \n",
    "combined_model.fit([description_bow_train, variety_train] + [train_embed], labels_train, epochs=10, batch_size=128)"
   ]
  },
  {
   "cell_type": "code",
   "execution_count": 107,
   "metadata": {},
   "outputs": [
    {
     "name": "stdout",
     "output_type": "stream",
     "text": [
      "21836/21836 [==============================]21836/21836 [==============================] - 2s 80us/step\n",
      "\n"
     ]
    },
    {
     "data": {
      "text/plain": [
       "[532.7880193539473, 0.06750320571123801]"
      ]
     },
     "execution_count": 107,
     "metadata": {},
     "output_type": "execute_result"
    }
   ],
   "source": [
    "combined_model.evaluate([description_bow_test, variety_test] + [test_embed], labels_test, batch_size=128)"
   ]
  },
  {
   "cell_type": "code",
   "execution_count": 108,
   "metadata": {},
   "outputs": [],
   "source": [
    "# Generate predictions\n",
    "predictions = combined_model.predict([description_bow_test, variety_test] + [test_embed])"
   ]
  },
  {
   "cell_type": "code",
   "execution_count": 109,
   "metadata": {},
   "outputs": [
    {
     "name": "stdout",
     "output_type": "stream",
     "text": [
      "Too ripe and obvious in fruit, with raisin, currant and black cherry jam flavors, accented with smoky, caramelized oak. Good and rich, but lacks subtlety. Drink now.\n",
      "Predicted:  49.227608 Actural:  28.0 \n",
      "\n",
      "Tough in tannins and acidic in the Mayacamas style. Feels hard and dry and earthy. The cherry-berry flavors have a tomatoey edge. But this Merlot, which contains 17% Cabernet Sauvignon, has a classy elegance, and opens up as it breathes in the glass.\n",
      "Predicted:  35.123184 Actural:  35.0 \n",
      "\n",
      "A spectacular Pinot Noir, but you don't want to open it anytime soon. Shows the pedigree of this vineyard, a superbly balanced wine rich in acidity and minerals. The fruit? Black and red cherries, blackberries, cola, cocoa powder and red currants, enriched with smoky cedarwood. Beautiful, but needs time. The window is 2011–2013.\n",
      "Predicted:  70.1012 Actural:  70.0 \n",
      "\n",
      "Ebullient blossom and berry notes waft from this unique carbonated Pinot Noir (blended with proportions of Cabernet Franc and Cayuga grapes). Plump strawberry and cherry flavors are dry on the palate, but concentrated, accented by brisk acidity and sharp, piercing bubbles.\n",
      "Predicted:  17.870886 Actural:  16.0 \n",
      "\n",
      "Sweet scents of cherry blossoms and forest greenery abound in Glenora's off-dry Pinot Noir rosé. It's off-dry, with a concentration of candied, sweet cherry flavors, bright acidity and balanced alcohol keep things restrained. Drink now.\n",
      "Predicted:  11.392331 Actural:  14.0 \n",
      "\n",
      "Just a really enjoyable mouthful of wine: Dark earth, blackberry, piercing fruitiness and some oak and char shadings. Finish is thick and claylike. It's15.5% alcohol, but wears its size quite well.\n",
      "Predicted:  41.82499 Actural:  45.0 \n",
      "\n",
      "This wine is half Cabernet Sauvignon and 40% Syrah, finished off with Petit Verdot. The aromas and flavors of dried herbs, blackberry, tar and fresh flowers show multiple layers, with the palate displaying density and richness. It needs time to be at its best but will be worth the wait. Drink 2020–2027.\n",
      "Predicted:  48.235954 Actural:  39.0 \n",
      "\n",
      "Crisp, green and steely, this is classic Chablis, all about pure green fruits and minerality, only lightly layered with wood. It is vibrant and fresh, with the acidity adding a mouthwatering lightness.\n",
      "Predicted:  40.270996 Actural:  36.0 \n",
      "\n",
      "Although it's very dry, with plenty of lush Zinny fruit flavor, the raisiny finish and hot mouthfeel are a little offputting, despite an official alcohol of only 14.5%. On the plus side there's a rich, velvety texture.\n",
      "Predicted:  21.340189 Actural:  21.0 \n",
      "\n",
      "Aromas of cooked red cherry, blackberry liqueur and smoke waft from the glass. Layers of flavor emerge once sipped—cassis, elderberry jam, cracked pepper, cardamom and espresso—proving more approachable than heavily tannic versions of the grape.\n",
      "Predicted:  9.332791 Actural:  46.0 \n",
      "\n",
      "This is very soft upon entry, with remnants of penetrating spicy and herbal flavors that might have punched up the intensity if they hadn't been somehow smoothed over. It's difficult to assess, because many of the right pieces are all here, but somehow they have not jelled. The wine tastes acidic and sharp, with pineapple and citrus dominating, and a chalky, tannic finish. Perhaps it's just a matter of time?\n",
      "Predicted:  31.11078 Actural:  30.0 \n",
      "\n",
      "This delivers plenty of easy pineapple, orange and pear fruit flavors, with touches of vanilla and buttercream.\n",
      "Predicted:  22.131372 Actural:  20.0 \n",
      "\n",
      "High in acidity, almost sour despite complete malo, this is a very dry wine, and it's thin in fruity flavor. Will do in a pinch, but you can do better for the money.\n",
      "Predicted:  13.535145 Actural:  12.0 \n",
      "\n",
      "Shows a nice balance, with ripe black currant and cherry fruit flavors wrapped in smooth, supportive tannins, and a fruity but dry finish. This elegant Cab drinks well now, and should hold for a good 10 years.\n",
      "Predicted:  29.154379 Actural:  17.0 \n",
      "\n",
      "Grove Mill's 2009 Sauvignon Blanc strikes a pleasant balance between zesty citrus and ripe stone fruit. It's medium-bodied and plump in the mouth, with a crisp, clean finish that invites another sip.\n",
      "Predicted:  16.486145 Actural:  15.0 \n",
      "\n",
      "Aromas of ripe cantaloupe, vanilla and tropical fruits plus creamy malolactic notes show on the nose of this limited-production Napa Chardonnay. This offering, a distinct label from the proprietors of Far Niente, has apple, pear and white peach flavors. Expect caramel and nut accents on a smoothly textured, buttery palate. The finish is long and dry—you'll see a reprise of the nutty elements plus a hint of lime.\n",
      "Predicted:  59.40347 Actural:  50.0 \n",
      "\n",
      "Stocky and warm, with mild baked-fruit aromas and a hint of bramble. This venerable table wine is made from 65% Garnacha and 35 Cariñena, and from 2005 it's pretty much on the money. Expect earthy, mildly brambly flavors, lively acidity and soft tannins. Good for a wide range of simple foods and appetizers.\n",
      "Predicted:  9.393939 Actural:  10.0 \n",
      "\n",
      "This is well aged and attractively packaged with its ripe fruits and more mature almond and yeast flavors. The wine has good intensity to go with its taut and tangy character. Drink over the next 2–3 years.\n",
      "Predicted:  11.217351 Actural:  53.0 \n",
      "\n",
      "Already showing good balance between ripe wood and plum and blackberry fruits, this is a full wine. The acidity is a welcome layer of juicy freshness in the rich texture. Drink now and over the next 2–3 years.\n",
      "Predicted:  18.12772 Actural:  22.0 \n",
      "\n",
      "Initially, the wine appears soft, with a noticeable layer of wood. The yellow fruit comes slowly through the spice, adding fruit richness. At the end, a burst of refreshing acidity finishes the wine with a lift. Worth aging for 2–3 years. Imported by Dreyfus, Ashby & Co.\n",
      "Predicted:  32.222282 Actural:  38.0 \n",
      "\n",
      "If you have a ¬bottle of this in your cellar, drink it now. The wine still has some fruit flavors backed by roasted almond and spice but there are also barnyard or Band-Aid tones that seem to be taking over.\n",
      "Predicted:  39.767204 Actural:  44.0 \n",
      "\n",
      "Fullbodied and detailed, the Shea vineyard bottling mingles fresh strawberry and sour cherry fruit in a tart, clean, bracing Pinot Noir. It's balanced and fresh, with particular appeal to those who prefer a racy, acidic style.\n",
      "Predicted:  41.612762 Actural:  40.0 \n",
      "\n",
      "Blended from Pinot Noir and Chardonnay, this sparkler is a little rough in texture, with candied orange, lemon and lime flavors. But it has good bubbles and a clean, elegant finish.\n",
      "Predicted:  19.650848 Actural:  39.0 \n",
      "\n",
      "Dry and soft in tannins, this exudes rich blackberry, grilled prosciutto and black pepper flavors. Made for drinking now, it shows real Santa Lucia  elegance at an affordable price.\n",
      "Predicted:  18.67213 Actural:  20.0 \n",
      "\n",
      "This is a spice- and vanilla-driven Valpolicella with a simple, forward approach and nice background aromas of ripe cherry, dried fruit and cedar wood. The mouthfeel is simple, clean, short and effective.  Imported by Tellitalia Imports.\n",
      "Predicted:  23.503586 Actural:  19.0 \n",
      "\n",
      "Very full-bodied and rich, a densely structured wine that's too young to appreciate now. The cherries, raspberries, currants, roasted coconut, mocha frappuccino, date nut bread, candied ginger, orange tea and sandalwood are exotic and almost overpowering, but the wine never loses its tense control. Now through 2012, at least.\n",
      "Predicted:  46.04876 Actural:  42.0 \n",
      "\n",
      "New French oak dominates this wine, in the form of caramel and buttered cinnamon toast. Those are delicious flavors, of course, but they have little to do with the wine itself, which seems just fine, suggesting sour red cherries, red currants and licorice. Maybe it's just going through an awkward phase, or maybe it's the alcohol, which officially clocks in at 16% by volume, emphasizing the sweetness.\n",
      "Predicted:  86.85891 Actural:  75.0 \n",
      "\n",
      "Grainy oak and green aromas rest on top of generic red-fruit scents. This feels chunky, blocky and tannic, with herbaceous medicinal flavors of tomato, oak resin and green herbs. A spicy saucy-tasting finish holds onto the wine's minty green herbal essence.\n",
      "Predicted:  23.857147 Actural:  22.0 \n",
      "\n",
      "From a mix of Columbia Valley vineyards, the Bona Vita is mostly Malbec, with Cabernet Sauvignon, Cab Franc and Merlot contributing to the blend. Pretty strawberry fruit is somewhat overtaken by aggressively smoky barrel aging, or so it would seem. Charcoal and smoke components lend a slightly burnt edge to the tannins.\n",
      "Predicted:  28.54486 Actural:  28.0 \n",
      "\n",
      "Here's a boutique winery that has pushed forward over the generations to offer beautiful expressions of Nebbiolo. Of its three Barolos, we especially love this wine from the Cannubi cru: it embodies delicate harmony and lingering flavors of wild berries, mineral and spice. The wine is dry and firm on the palate and leaves a lasting impression of freshness.\n",
      "Predicted:  148.46536 Actural:  149.0 \n",
      "\n",
      "Very light, to the point of being watery, with hints of citrus and tea. The finish leaves a sour aftertaste.\n",
      "Predicted:  17.06067 Actural:  12.0 \n",
      "\n",
      "Lithe and slick, this has broad apple flavors and loose acids.\n",
      "Predicted:  23.65413 Actural:  18.0 \n",
      "\n",
      "With tropical fruit richness, this is a full and rounded Sauvignon Blanc. It has weight, its spicy texture filled out with both opulent fruits and a crisper citrus acidity. Glass stopper.\n",
      "Predicted:  27.210333 Actural:  27.0 \n",
      "\n",
      "This may be from the exceptional vintage of 2003, but Château Margaux remains true to form. First and foremost, it is a refined, elegant wine, with complex layers of flavors. But, yes, the hot summer is there the dense, dry tannins, but somehow they seem to float through the wine rather than sitting heavily in the middle. Acidity and freshness come to finish, giving the wine a delicious lift. Imported by Diageo Chateau & Estates.\n",
      "Predicted:  349.8093 Actural:  360.0 \n",
      "\n",
      "This wine boasts a riot of tart huckleberry, marionberry and purple fruit flavors that taste as if they have been lightly soaked in Bourbon. The dusty tannins set up a long ride onto the palate-pleasing finish.\n",
      "Predicted:  29.488224 Actural:  30.0 \n",
      "\n",
      "After picking yourself up off the floor having digested the price, the wine is excellent but not otherwordly. Sweet, dense and calm on the nose, with alluring black fruit and raisin aromas. Feels hefty and gritty, with rooty, sweet flavors of brown sugar and baked blackberry. Finishes round, big and smooth, with generally good balance. 120 cases made; drink now through 2014.\n",
      "Predicted:  72.40286 Actural:  167.0 \n",
      "\n",
      "Juicy, spicy and red-fruit dominated, this wine is broad-shouldered and moderately balanced, with a powerful hit of tannin on the finish. Sweet tobacco and vanilla flavors crescendo on the finish.\n",
      "Predicted:  32.945183 Actural:  60.0 \n",
      "\n",
      "This wine is mild and lightly fruity up front, with aromas of pear, apple, vanilla and other warm-climate standards. Feels round, with pear, peach and white pepper flavors. Turns bitter on the short finish.\n",
      "Predicted:  12.434339 Actural:  14.0 \n",
      "\n",
      "A distinguished wine, but a very young one whose tannins dominate. The flavors are myriad and complex, ranging from currants and cherries through anise and plum sauce to the smoky cedar of the oak barrels in which it was aged. Drink now, with decanting, and through 2012. Cabernet, Sangiovese, Merlot, Syrah.\n",
      "Predicted:  43.526073 Actural:  60.0 \n",
      "\n",
      "Alphonse Mellot Jr, the 19th generation of Alphonses to make wine at La Moussière, has raised his family's domaine to a new height. This is so evident in this super-rich, concentrated wine, but one that doesn't lose sight of its cool climate, chalk soil origins. So there's great opulence, but also a vivid green acidity that strikes right through the wine.\n",
      "Predicted:  58.93071 Actural:  61.0 \n",
      "\n"
     ]
    }
   ],
   "source": [
    "# Compare predictions with actual values for the first few items in our test dataset\n",
    "num_predictions = 40\n",
    "diff = 0\n",
    "\n",
    "for i in range(num_predictions):\n",
    "    val = predictions[i]\n",
    "    print(description_test.iloc[i])\n",
    "    print('Predicted: ', val[0], 'Actural: ', labels_test.iloc[i], '\\n')\n",
    "    diff += abs(val[0] - labels_test.iloc[i])"
   ]
  },
  {
   "cell_type": "code",
   "execution_count": 110,
   "metadata": {},
   "outputs": [
    {
     "name": "stdout",
     "output_type": "stream",
     "text": [
      "Average prediction difference:  9.318470692634582\n"
     ]
    }
   ],
   "source": [
    "# Compare the average difference between actual price and the model's predicted price\n",
    "print('Average prediction difference: ', diff / num_predictions)"
   ]
  },
  {
   "cell_type": "code",
   "execution_count": null,
   "metadata": {},
   "outputs": [],
   "source": []
  }
 ],
 "metadata": {
  "kernelspec": {
   "display_name": "Python 3",
   "language": "python",
   "name": "python3"
  },
  "language_info": {
   "codemirror_mode": {
    "name": "ipython",
    "version": 3
   },
   "file_extension": ".py",
   "mimetype": "text/x-python",
   "name": "python",
   "nbconvert_exporter": "python",
   "pygments_lexer": "ipython3",
   "version": "3.5.2"
  }
 },
 "nbformat": 4,
 "nbformat_minor": 2
}
