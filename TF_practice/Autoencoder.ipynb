{
 "cells": [
  {
   "cell_type": "code",
   "execution_count": 11,
   "metadata": {
    "collapsed": false
   },
   "outputs": [
    {
     "name": "stdout",
     "output_type": "stream",
     "text": [
      "Extracting /tmp/data/train-images-idx3-ubyte.gz\n",
      "Extracting /tmp/data/train-labels-idx1-ubyte.gz\n",
      "Extracting /tmp/data/t10k-images-idx3-ubyte.gz\n",
      "Extracting /tmp/data/t10k-labels-idx1-ubyte.gz\n"
     ]
    }
   ],
   "source": [
    "# View more python learning tutorial on my Youtube and Youku channel!!!\n",
    "\n",
    "# My tutorial website: https://morvanzhou.github.io/tutorials/\n",
    "\n",
    "from __future__ import division, print_function, absolute_import\n",
    "\n",
    "import tensorflow as tf\n",
    "import numpy as np\n",
    "import matplotlib.pyplot as plt\n",
    "\n",
    "# Import MNIST data\n",
    "from tensorflow.examples.tutorials.mnist import input_data\n",
    "mnist = input_data.read_data_sets(\"/tmp/data/\", one_hot=False)"
   ]
  },
  {
   "cell_type": "code",
   "execution_count": 12,
   "metadata": {
    "collapsed": true
   },
   "outputs": [],
   "source": [
    "# Visualize decoder setting\n",
    "# Parameters\n",
    "learning_rate = 0.01\n",
    "training_epochs = 5\n",
    "batch_size = 256\n",
    "display_step = 1\n",
    "examples_to_show = 10\n",
    "\n",
    "# Network Parameters\n",
    "n_input = 784  # MNIST data input (img shape: 28*28)"
   ]
  },
  {
   "cell_type": "code",
   "execution_count": 13,
   "metadata": {
    "collapsed": true
   },
   "outputs": [],
   "source": [
    "# tf Graph input (only pictures)\n",
    "X = tf.placeholder(\"float\", [None, n_input])\n",
    "\n",
    "# hidden layer settings\n",
    "n_hidden_1 = 256 # 1st layer num features\n",
    "n_hidden_2 = 128 # 2nd layer num features\n",
    "weights = {\n",
    "    'encoder_h1': tf.Variable(tf.random_normal([n_input, n_hidden_1])),\n",
    "    'encoder_h2': tf.Variable(tf.random_normal([n_hidden_1, n_hidden_2])),\n",
    "    'decoder_h1': tf.Variable(tf.random_normal([n_hidden_2, n_hidden_1])),\n",
    "    'decoder_h2': tf.Variable(tf.random_normal([n_hidden_1, n_input])),\n",
    "}\n",
    "biases = {\n",
    "    'encoder_b1': tf.Variable(tf.random_normal([n_hidden_1])),\n",
    "    'encoder_b2': tf.Variable(tf.random_normal([n_hidden_2])),\n",
    "    'decoder_b1': tf.Variable(tf.random_normal([n_hidden_1])),\n",
    "    'decoder_b2': tf.Variable(tf.random_normal([n_input])),\n",
    "}"
   ]
  },
  {
   "cell_type": "code",
   "execution_count": 14,
   "metadata": {
    "collapsed": false
   },
   "outputs": [
    {
     "data": {
      "text/plain": [
       "'\\n# Visualize encoder setting\\n# Parameters\\nlearning_rate = 0.01    # 0.01 this learning rate will be better! Tested\\ntraining_epochs = 10\\nbatch_size = 256\\ndisplay_step = 1\\n# Network Parameters\\nn_input = 784  # MNIST data input (img shape: 28*28)\\n# tf Graph input (only pictures)\\nX = tf.placeholder(\"float\", [None, n_input])\\n# hidden layer settings\\nn_hidden_1 = 128\\nn_hidden_2 = 64\\nn_hidden_3 = 10\\nn_hidden_4 = 2\\nweights = {\\n    \\'encoder_h1\\': tf.Variable(tf.truncated_normal([n_input, n_hidden_1],)),\\n    \\'encoder_h2\\': tf.Variable(tf.truncated_normal([n_hidden_1, n_hidden_2],)),\\n    \\'encoder_h3\\': tf.Variable(tf.truncated_normal([n_hidden_2, n_hidden_3],)),\\n    \\'encoder_h4\\': tf.Variable(tf.truncated_normal([n_hidden_3, n_hidden_4],)),\\n    \\'decoder_h1\\': tf.Variable(tf.truncated_normal([n_hidden_4, n_hidden_3],)),\\n    \\'decoder_h2\\': tf.Variable(tf.truncated_normal([n_hidden_3, n_hidden_2],)),\\n    \\'decoder_h3\\': tf.Variable(tf.truncated_normal([n_hidden_2, n_hidden_1],)),\\n    \\'decoder_h4\\': tf.Variable(tf.truncated_normal([n_hidden_1, n_input],)),\\n}\\nbiases = {\\n    \\'encoder_b1\\': tf.Variable(tf.random_normal([n_hidden_1])),\\n    \\'encoder_b2\\': tf.Variable(tf.random_normal([n_hidden_2])),\\n    \\'encoder_b3\\': tf.Variable(tf.random_normal([n_hidden_3])),\\n    \\'encoder_b4\\': tf.Variable(tf.random_normal([n_hidden_4])),\\n    \\'decoder_b1\\': tf.Variable(tf.random_normal([n_hidden_3])),\\n    \\'decoder_b2\\': tf.Variable(tf.random_normal([n_hidden_2])),\\n    \\'decoder_b3\\': tf.Variable(tf.random_normal([n_hidden_1])),\\n    \\'decoder_b4\\': tf.Variable(tf.random_normal([n_input])),\\n}\\ndef encoder(x):\\n    layer_1 = tf.nn.sigmoid(tf.add(tf.matmul(x, weights[\\'encoder_h1\\']),\\n                                   biases[\\'encoder_b1\\']))\\n    layer_2 = tf.nn.sigmoid(tf.add(tf.matmul(layer_1, weights[\\'encoder_h2\\']),\\n                                   biases[\\'encoder_b2\\']))\\n    layer_3 = tf.nn.sigmoid(tf.add(tf.matmul(layer_2, weights[\\'encoder_h3\\']),\\n                                   biases[\\'encoder_b3\\']))\\n    layer_4 = tf.add(tf.matmul(layer_3, weights[\\'encoder_h4\\']),\\n                                    biases[\\'encoder_b4\\'])\\n    return layer_4\\ndef decoder(x):\\n    layer_1 = tf.nn.sigmoid(tf.add(tf.matmul(x, weights[\\'decoder_h1\\']),\\n                                   biases[\\'decoder_b1\\']))\\n    layer_2 = tf.nn.sigmoid(tf.add(tf.matmul(layer_1, weights[\\'decoder_h2\\']),\\n                                   biases[\\'decoder_b2\\']))\\n    layer_3 = tf.nn.sigmoid(tf.add(tf.matmul(layer_2, weights[\\'decoder_h3\\']),\\n                                biases[\\'decoder_b3\\']))\\n    layer_4 = tf.nn.sigmoid(tf.add(tf.matmul(layer_3, weights[\\'decoder_h4\\']),\\n                                biases[\\'decoder_b4\\']))\\n    return layer_4\\n'"
      ]
     },
     "execution_count": 14,
     "metadata": {},
     "output_type": "execute_result"
    }
   ],
   "source": [
    "# Building the encoder\n",
    "def encoder(x):\n",
    "    # Encoder Hidden layer with sigmoid activation #1\n",
    "    layer_1 = tf.nn.sigmoid(tf.add(tf.matmul(x, weights['encoder_h1']),\n",
    "                                   biases['encoder_b1']))\n",
    "    # Decoder Hidden layer with sigmoid activation #2\n",
    "    layer_2 = tf.nn.sigmoid(tf.add(tf.matmul(layer_1, weights['encoder_h2']),\n",
    "                                   biases['encoder_b2']))\n",
    "    return layer_2\n",
    "\n",
    "\n",
    "# Building the decoder\n",
    "def decoder(x):\n",
    "    # Encoder Hidden layer with sigmoid activation #1\n",
    "    layer_1 = tf.nn.sigmoid(tf.add(tf.matmul(x, weights['decoder_h1']),\n",
    "                                   biases['decoder_b1']))\n",
    "    # Decoder Hidden layer with sigmoid activation #2\n",
    "    layer_2 = tf.nn.sigmoid(tf.add(tf.matmul(layer_1, weights['decoder_h2']),\n",
    "                                   biases['decoder_b2']))\n",
    "    return layer_2\n",
    "\n",
    "\n",
    "\"\"\"\n",
    "# Visualize encoder setting\n",
    "# Parameters\n",
    "learning_rate = 0.01    # 0.01 this learning rate will be better! Tested\n",
    "training_epochs = 10\n",
    "batch_size = 256\n",
    "display_step = 1\n",
    "# Network Parameters\n",
    "n_input = 784  # MNIST data input (img shape: 28*28)\n",
    "# tf Graph input (only pictures)\n",
    "X = tf.placeholder(\"float\", [None, n_input])\n",
    "# hidden layer settings\n",
    "n_hidden_1 = 128\n",
    "n_hidden_2 = 64\n",
    "n_hidden_3 = 10\n",
    "n_hidden_4 = 2\n",
    "weights = {\n",
    "    'encoder_h1': tf.Variable(tf.truncated_normal([n_input, n_hidden_1],)),\n",
    "    'encoder_h2': tf.Variable(tf.truncated_normal([n_hidden_1, n_hidden_2],)),\n",
    "    'encoder_h3': tf.Variable(tf.truncated_normal([n_hidden_2, n_hidden_3],)),\n",
    "    'encoder_h4': tf.Variable(tf.truncated_normal([n_hidden_3, n_hidden_4],)),\n",
    "    'decoder_h1': tf.Variable(tf.truncated_normal([n_hidden_4, n_hidden_3],)),\n",
    "    'decoder_h2': tf.Variable(tf.truncated_normal([n_hidden_3, n_hidden_2],)),\n",
    "    'decoder_h3': tf.Variable(tf.truncated_normal([n_hidden_2, n_hidden_1],)),\n",
    "    'decoder_h4': tf.Variable(tf.truncated_normal([n_hidden_1, n_input],)),\n",
    "}\n",
    "biases = {\n",
    "    'encoder_b1': tf.Variable(tf.random_normal([n_hidden_1])),\n",
    "    'encoder_b2': tf.Variable(tf.random_normal([n_hidden_2])),\n",
    "    'encoder_b3': tf.Variable(tf.random_normal([n_hidden_3])),\n",
    "    'encoder_b4': tf.Variable(tf.random_normal([n_hidden_4])),\n",
    "    'decoder_b1': tf.Variable(tf.random_normal([n_hidden_3])),\n",
    "    'decoder_b2': tf.Variable(tf.random_normal([n_hidden_2])),\n",
    "    'decoder_b3': tf.Variable(tf.random_normal([n_hidden_1])),\n",
    "    'decoder_b4': tf.Variable(tf.random_normal([n_input])),\n",
    "}\n",
    "def encoder(x):\n",
    "    layer_1 = tf.nn.sigmoid(tf.add(tf.matmul(x, weights['encoder_h1']),\n",
    "                                   biases['encoder_b1']))\n",
    "    layer_2 = tf.nn.sigmoid(tf.add(tf.matmul(layer_1, weights['encoder_h2']),\n",
    "                                   biases['encoder_b2']))\n",
    "    layer_3 = tf.nn.sigmoid(tf.add(tf.matmul(layer_2, weights['encoder_h3']),\n",
    "                                   biases['encoder_b3']))\n",
    "    layer_4 = tf.add(tf.matmul(layer_3, weights['encoder_h4']),\n",
    "                                    biases['encoder_b4'])\n",
    "    return layer_4\n",
    "def decoder(x):\n",
    "    layer_1 = tf.nn.sigmoid(tf.add(tf.matmul(x, weights['decoder_h1']),\n",
    "                                   biases['decoder_b1']))\n",
    "    layer_2 = tf.nn.sigmoid(tf.add(tf.matmul(layer_1, weights['decoder_h2']),\n",
    "                                   biases['decoder_b2']))\n",
    "    layer_3 = tf.nn.sigmoid(tf.add(tf.matmul(layer_2, weights['decoder_h3']),\n",
    "                                biases['decoder_b3']))\n",
    "    layer_4 = tf.nn.sigmoid(tf.add(tf.matmul(layer_3, weights['decoder_h4']),\n",
    "                                biases['decoder_b4']))\n",
    "    return layer_4\n",
    "\"\"\""
   ]
  },
  {
   "cell_type": "code",
   "execution_count": 15,
   "metadata": {
    "collapsed": false
   },
   "outputs": [
    {
     "name": "stdout",
     "output_type": "stream",
     "text": [
      "Epoch: 0001 cost= 0.095074348\n",
      "Epoch: 0002 cost= 0.080427393\n",
      "Epoch: 0003 cost= 0.075098485\n",
      "Epoch: 0004 cost= 0.070316978\n",
      "Epoch: 0005 cost= 0.066272192\n",
      "Optimization Finished!\n"
     ]
    },
    {
     "data": {
      "image/png": "[encoded data removed]",
      "text/plain": [
       "<matplotlib.figure.Figure at 0x7fb619fa0dd8>"
      ]
     },
     "metadata": {},
     "output_type": "display_data"
    }
   ],
   "source": [
    "# Construct model\n",
    "encoder_op = encoder(X)\n",
    "decoder_op = decoder(encoder_op)\n",
    "\n",
    "# Prediction\n",
    "y_pred = decoder_op\n",
    "# Targets (Labels) are the input data.\n",
    "y_true = X\n",
    "\n",
    "# Define loss and optimizer, minimize the squared error\n",
    "cost = tf.reduce_mean(tf.pow(y_true - y_pred, 2))\n",
    "optimizer = tf.train.AdamOptimizer(learning_rate).minimize(cost)\n",
    "\n",
    "\n",
    "# Launch the graph\n",
    "with tf.Session() as sess:\n",
    "    # tf.initialize_all_variables() no long valid from\n",
    "    # 2017-03-02 if using tensorflow >= 0.12\n",
    "    if int((tf.__version__).split('.')[1]) < 12 and int((tf.__version__).split('.')[0]) < 1:\n",
    "        init = tf.initialize_all_variables()\n",
    "    else:\n",
    "        init = tf.global_variables_initializer()\n",
    "    sess.run(init)\n",
    "    total_batch = int(mnist.train.num_examples/batch_size)\n",
    "    # Training cycle\n",
    "    for epoch in range(training_epochs):\n",
    "        # Loop over all batches\n",
    "        for i in range(total_batch):\n",
    "            batch_xs, batch_ys = mnist.train.next_batch(batch_size)  # max(x) = 1, min(x) = 0\n",
    "            # Run optimization op (backprop) and cost op (to get loss value)\n",
    "            _, c = sess.run([optimizer, cost], feed_dict={X: batch_xs})\n",
    "        # Display logs per epoch step\n",
    "        if epoch % display_step == 0:\n",
    "            print(\"Epoch:\", '%04d' % (epoch+1),\n",
    "                  \"cost=\", \"{:.9f}\".format(c))\n",
    "\n",
    "    print(\"Optimization Finished!\")\n",
    "\n",
    "    # # Applying encode and decode over test set\n",
    "    encode_decode = sess.run(\n",
    "        y_pred, feed_dict={X: mnist.test.images[:examples_to_show]})\n",
    "    # Compare original images with their reconstructions\n",
    "    f, a = plt.subplots(2, 10, figsize=(10, 2))\n",
    "    for i in range(examples_to_show):\n",
    "        a[0][i].imshow(np.reshape(mnist.test.images[i], (28, 28)))\n",
    "        a[1][i].imshow(np.reshape(encode_decode[i], (28, 28)))\n",
    "    plt.show()\n",
    "\n",
    "    # encoder_result = sess.run(encoder_op, feed_dict={X: mnist.test.images})\n",
    "    # plt.scatter(encoder_result[:, 0], encoder_result[:, 1], c=mnist.test.labels)\n",
    "    # plt.colorbar()\n",
    "    # plt.show()"
   ]
  },
  {
   "cell_type": "code",
   "execution_count": null,
   "metadata": {
    "collapsed": true
   },
   "outputs": [],
   "source": []
  }
 ],
 "metadata": {
  "kernelspec": {
   "display_name": "Python 3",
   "language": "python",
   "name": "python3"
  },
  "language_info": {
   "codemirror_mode": {
    "name": "ipython",
    "version": 3
   },
   "file_extension": ".py",
   "mimetype": "text/x-python",
   "name": "python",
   "nbconvert_exporter": "python",
   "pygments_lexer": "ipython3",
   "version": "3.6.0"
  }
 },
 "nbformat": 4,
 "nbformat_minor": 2
}
