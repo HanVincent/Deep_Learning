{
 "cells": [
  {
   "cell_type": "code",
   "execution_count": 2,
   "metadata": {
    "collapsed": true
   },
   "outputs": [],
   "source": [
    "\"\"\"\n",
    "visit https://morvanzhou.github.io/tutorials/ for more!\n",
    "Build two networks.\n",
    "1. Without batch normalization\n",
    "2. With batch normalization\n",
    "Run tests on these two networks.\n",
    "\"\"\"\n",
    "\n",
    "# 23 Batch Normalization\n",
    "\n",
    "import numpy as np\n",
    "import tensorflow as tf\n",
    "import matplotlib.pyplot as plt"
   ]
  },
  {
   "cell_type": "code",
   "execution_count": 3,
   "metadata": {
    "collapsed": true
   },
   "outputs": [],
   "source": [
    "ACTIVATION = tf.nn.relu\n",
    "N_LAYERS = 7\n",
    "N_HIDDEN_UNITS = 30\n",
    "\n",
    "def fix_seed(seed=1):\n",
    "    # reproducible\n",
    "    np.random.seed(seed)\n",
    "    tf.set_random_seed(seed)"
   ]
  },
  {
   "cell_type": "code",
   "execution_count": 4,
   "metadata": {
    "collapsed": false
   },
   "outputs": [],
   "source": [
    "def plot_his(inputs, inputs_norm):\n",
    "    # plot histogram for the inputs of every layer\n",
    "    for j, all_inputs in enumerate([inputs, inputs_norm]):\n",
    "        for i, input in enumerate(all_inputs):\n",
    "            plt.subplot(2, len(all_inputs), j*len(all_inputs)+(i+1))\n",
    "            plt.cla()\n",
    "            if i == 0:\n",
    "                the_range = (-7, 10)\n",
    "            else:\n",
    "                the_range = (-1, 1)\n",
    "            plt.hist(input.ravel(), bins=15, range=the_range, color='#FF5733')\n",
    "            plt.yticks(())\n",
    "            if j == 1:\n",
    "                plt.xticks(the_range)\n",
    "            else:\n",
    "                plt.xticks(())\n",
    "            ax = plt.gca()\n",
    "            ax.spines['right'].set_color('none')\n",
    "            ax.spines['top'].set_color('none')\n",
    "        plt.title(\"%s normalizing\" % (\"Without\" if j == 0 else \"With\"))\n",
    "    plt.draw()\n",
    "    plt.pause(0.01)"
   ]
  },
  {
   "cell_type": "code",
   "execution_count": 5,
   "metadata": {
    "collapsed": true
   },
   "outputs": [],
   "source": [
    "def built_net(xs, ys, norm):\n",
    "    def add_layer(inputs, in_size, out_size, activation_function=None, norm=False):\n",
    "        # weights and biases (bad initialization for this case)\n",
    "        Weights = tf.Variable(tf.random_normal([in_size, out_size], mean=0., stddev=1.))\n",
    "        biases = tf.Variable(tf.zeros([1, out_size]) + 0.1)\n",
    "\n",
    "        # fully connected product\n",
    "        Wx_plus_b = tf.matmul(inputs, Weights) + biases\n",
    "\n",
    "        # normalize fully connected product\n",
    "        if norm:\n",
    "            # Batch Normalize\n",
    "            fc_mean, fc_var = tf.nn.moments(\n",
    "                Wx_plus_b,\n",
    "                axes=[0],   # the dimension you wanna normalize, here [0] for batch\n",
    "                            # for image, you wanna do [0, 1, 2] for [batch, height, width] but not channel\n",
    "            )\n",
    "            scale = tf.Variable(tf.ones([out_size]))\n",
    "            shift = tf.Variable(tf.zeros([out_size]))\n",
    "            epsilon = 0.001\n",
    "\n",
    "            # apply moving average for mean and var when train on batch\n",
    "            ema = tf.train.ExponentialMovingAverage(decay=0.5)\n",
    "            def mean_var_with_update():\n",
    "                ema_apply_op = ema.apply([fc_mean, fc_var])\n",
    "                with tf.control_dependencies([ema_apply_op]):\n",
    "                    return tf.identity(fc_mean), tf.identity(fc_var)\n",
    "            mean, var = mean_var_with_update()\n",
    "\n",
    "            Wx_plus_b = tf.nn.batch_normalization(Wx_plus_b, mean, var, shift, scale, epsilon)\n",
    "            # similar with this two steps:\n",
    "            # Wx_plus_b = (Wx_plus_b - fc_mean) / tf.sqrt(fc_var + 0.001)\n",
    "            # Wx_plus_b = Wx_plus_b * scale + shift\n",
    "\n",
    "        # activation\n",
    "        if activation_function is None:\n",
    "            outputs = Wx_plus_b\n",
    "        else:\n",
    "            outputs = activation_function(Wx_plus_b)\n",
    "\n",
    "        return outputs\n",
    "\n",
    "    fix_seed(1)\n",
    "\n",
    "    if norm:\n",
    "        # BN for the first input\n",
    "        fc_mean, fc_var = tf.nn.moments(\n",
    "            xs,\n",
    "            axes=[0],\n",
    "        )\n",
    "        scale = tf.Variable(tf.ones([1]))\n",
    "        shift = tf.Variable(tf.zeros([1]))\n",
    "        epsilon = 0.001\n",
    "        # apply moving average for mean and var when train on batch\n",
    "        ema = tf.train.ExponentialMovingAverage(decay=0.5)\n",
    "        def mean_var_with_update():\n",
    "            ema_apply_op = ema.apply([fc_mean, fc_var])\n",
    "            with tf.control_dependencies([ema_apply_op]):\n",
    "                return tf.identity(fc_mean), tf.identity(fc_var)\n",
    "        mean, var = mean_var_with_update()\n",
    "        xs = tf.nn.batch_normalization(xs, mean, var, shift, scale, epsilon)\n",
    "\n",
    "    # record inputs for every layer\n",
    "    layers_inputs = [xs]\n",
    "\n",
    "    # build hidden layers\n",
    "    for l_n in range(N_LAYERS):\n",
    "        layer_input = layers_inputs[l_n]\n",
    "        in_size = layers_inputs[l_n].get_shape()[1].value\n",
    "\n",
    "        output = add_layer(\n",
    "            layer_input,    # input\n",
    "            in_size,        # input size\n",
    "            N_HIDDEN_UNITS, # output size\n",
    "            ACTIVATION,     # activation function\n",
    "            norm,           # normalize before activation\n",
    "        )\n",
    "        layers_inputs.append(output)    # add output for next run\n",
    "\n",
    "    # build output layer\n",
    "    prediction = add_layer(layers_inputs[-1], 30, 1, activation_function=None)\n",
    "\n",
    "    cost = tf.reduce_mean(tf.reduce_sum(tf.square(ys - prediction), reduction_indices=[1]))\n",
    "    train_op = tf.train.GradientDescentOptimizer(0.001).minimize(cost)\n",
    "    return [train_op, cost, layers_inputs]\n"
   ]
  },
  {
   "cell_type": "code",
   "execution_count": 7,
   "metadata": {
    "collapsed": false
   },
   "outputs": [
    {
     "name": "stdout",
     "output_type": "stream",
     "text": [
      "[[ -4.49501077]\n",
      " [  2.56776867]\n",
      " [ 17.34349656]\n",
      " ..., \n",
      " [  4.20328189]\n",
      " [-16.407009  ]\n",
      " [  1.69526861]]\n"
     ]
    },
    {
     "data": {
      "image/png": "[encoded data removed]",
      "text/plain": [
       "<matplotlib.figure.Figure at 0x7fa399888940>"
      ]
     },
     "metadata": {},
     "output_type": "display_data"
    },
    {
     "data": {
      "image/png": "[encoded data removed]",
      "text/plain": [
       "<matplotlib.figure.Figure at 0x7fa3995dc048>"
      ]
     },
     "metadata": {},
     "output_type": "display_data"
    },
    {
     "data": {
      "image/png": "[encoded data removed]",
      "text/plain": [
       "<matplotlib.figure.Figure at 0x7fa46c2aa4a8>"
      ]
     },
     "metadata": {},
     "output_type": "display_data"
    }
   ],
   "source": [
    "# make up data\n",
    "fix_seed(1)\n",
    "x_data = np.linspace(-7, 10, 2500)[:, np.newaxis]\n",
    "np.random.shuffle(x_data)\n",
    "noise = np.random.normal(0, 8, x_data.shape)\n",
    "y_data = np.square(x_data) - 5 + noise\n",
    "\n",
    "# plot input data\n",
    "plt.scatter(x_data, y_data)\n",
    "plt.show()\n",
    "\n",
    "xs = tf.placeholder(tf.float32, [None, 1])  # [num_samples, num_features]\n",
    "ys = tf.placeholder(tf.float32, [None, 1])\n",
    "\n",
    "train_op, cost, layers_inputs = built_net(xs, ys, norm=False)   # without BN\n",
    "train_op_norm, cost_norm, layers_inputs_norm = built_net(xs, ys, norm=True) # with BN\n",
    "\n",
    "sess = tf.Session()\n",
    "if int((tf.__version__).split('.')[1]) < 12 and int((tf.__version__).split('.')[0]) < 1:\n",
    "    init = tf.initialize_all_variables()\n",
    "else:\n",
    "    init = tf.global_variables_initializer()\n",
    "sess.run(init)\n",
    "\n",
    "# record cost\n",
    "cost_his = []\n",
    "cost_his_norm = []\n",
    "record_step = 5\n",
    "\n",
    "plt.ion()\n",
    "plt.figure(figsize=(7, 3))\n",
    "for i in range(250):\n",
    "    if i % 50 == 0:\n",
    "        # plot histogram\n",
    "        all_inputs, all_inputs_norm = sess.run([layers_inputs, layers_inputs_norm], feed_dict={xs: x_data, ys: y_data})\n",
    "        plot_his(all_inputs, all_inputs_norm)\n",
    "\n",
    "    # train on batch\n",
    "    sess.run([train_op, train_op_norm], feed_dict={xs: x_data[i*10:i*10+10], ys: y_data[i*10:i*10+10]})\n",
    "\n",
    "    if i % record_step == 0:\n",
    "        # record cost\n",
    "        cost_his.append(sess.run(cost, feed_dict={xs: x_data, ys: y_data}))\n",
    "        cost_his_norm.append(sess.run(cost_norm, feed_dict={xs: x_data, ys: y_data}))\n",
    "\n",
    "plt.ioff()\n",
    "plt.figure()\n",
    "plt.plot(np.arange(len(cost_his))*record_step, np.array(cost_his), label='no BN')     # no norm\n",
    "plt.plot(np.arange(len(cost_his))*record_step, np.array(cost_his_norm), label='BN')   # norm\n",
    "plt.legend()\n",
    "plt.show()\n"
   ]
  },
  {
   "cell_type": "code",
   "execution_count": null,
   "metadata": {
    "collapsed": true
   },
   "outputs": [],
   "source": []
  }
 ],
 "metadata": {
  "kernelspec": {
   "display_name": "Python 3",
   "language": "python",
   "name": "python3"
  },
  "language_info": {
   "codemirror_mode": {
    "name": "ipython",
    "version": 3
   },
   "file_extension": ".py",
   "mimetype": "text/x-python",
   "name": "python",
   "nbconvert_exporter": "python",
   "pygments_lexer": "ipython3",
   "version": "3.6.0"
  }
 },
 "nbformat": 4,
 "nbformat_minor": 2
}
