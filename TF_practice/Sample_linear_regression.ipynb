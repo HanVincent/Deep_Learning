{
 "cells": [
  {
   "cell_type": "code",
   "execution_count": 3,
   "metadata": {
    "collapsed": false
   },
   "outputs": [],
   "source": [
    "import tensorflow as tf\n",
    "import numpy as np\n",
    "import matplotlib.pyplot as plot"
   ]
  },
  {
   "cell_type": "code",
   "execution_count": 15,
   "metadata": {
    "collapsed": false
   },
   "outputs": [],
   "source": [
    "# create data\n",
    "X_data = np.random.random(1000).astype(np.float32)\n",
    "y_data = 0.3 * X_data + 0.3\n",
    "\n",
    "X_train, X_test = np.split(X_data, [900])\n",
    "y_train, y_test = np.split(y_data, [900])\n",
    "\n",
    "y_train = y_train.reshape([900, 1])\n",
    "y_test = y_test.reshape([100, 1])\n"
   ]
  },
  {
   "cell_type": "code",
   "execution_count": 26,
   "metadata": {
    "collapsed": false
   },
   "outputs": [
    {
     "name": "stdout",
     "output_type": "stream",
     "text": [
      "(900,)\n",
      "<tf.Variable 'Variable_18:0' shape=(1, 1) dtype=float32_ref>\n",
      "<tf.Variable 'Variable_19:0' shape=(1,) dtype=float32_ref>\n",
      "Tensor(\"add_1:0\", shape=(900, 1), dtype=float32)\n"
     ]
    }
   ],
   "source": [
    "# create tensorflow structure\n",
    "Weights = tf.Variable(tf.random_uniform([1,1], -1.0, 1.0))\n",
    "biases = tf.Variable(tf.zeros([1]))\n",
    "\n",
    "print(X_train.shape)\n",
    "print(Weights)\n",
    "print(biases)\n",
    "\n",
    "y_predict = tf.matmul(X_train.reshape([900,1]), Weights) + biases\n",
    "\n",
    "print(y_predict)\n",
    "# print(y_train)\n",
    "\n",
    "loss = tf.reduce_mean(tf.square(y_predict - y_train))\n",
    "optimizer = tf.train.GradientDescentOptimizer(0.4)\n",
    "train = optimizer.minimize(loss)\n",
    "\n",
    "init = tf.global_variables_initializer()"
   ]
  },
  {
   "cell_type": "code",
   "execution_count": 27,
   "metadata": {
    "collapsed": false
   },
   "outputs": [
    {
     "data": {
      "image/png": "[encoded data removed]",
      "text/plain": [
       "<matplotlib.figure.Figure at 0x7f2c7823ee48>"
      ]
     },
     "metadata": {},
     "output_type": "display_data"
    },
    {
     "name": "stdout",
     "output_type": "stream",
     "text": [
      "0 0.410639 [[-0.33481717]] [ 0.]\n",
      "20 0.0013282 [[ 0.17482831]] [ 0.36629885]\n",
      "40 0.00015066 [[ 0.25784257]] [ 0.32232925]\n",
      "60 1.70898e-05 [[ 0.2858015]] [ 0.30752045]\n",
      "80 1.93854e-06 [[ 0.29521799]] [ 0.30253288]\n",
      "100 2.19884e-07 [[ 0.29838946]] [ 0.30085304]\n",
      "120 2.49433e-08 [[ 0.29945758]] [ 0.30028734]\n",
      "140 2.82932e-09 [[ 0.29981732]] [ 0.30009678]\n",
      "160 3.21087e-10 [[ 0.29993847]] [ 0.30003262]\n",
      "180 3.6487e-11 [[ 0.29997927]] [ 0.30001101]\n",
      "200 4.1478e-12 [[ 0.29999301]] [ 0.30000371]\n",
      "220 4.5784e-13 [[ 0.29999769]] [ 0.30000123]\n",
      "240 5.49921e-14 [[ 0.29999921]] [ 0.30000043]\n",
      "260 6.82812e-15 [[ 0.29999974]] [ 0.30000016]\n",
      "280 6.82812e-15 [[ 0.29999974]] [ 0.30000016]\n",
      "300 6.82812e-15 [[ 0.29999974]] [ 0.30000016]\n",
      "320 6.82812e-15 [[ 0.29999974]] [ 0.30000016]\n",
      "340 6.82812e-15 [[ 0.29999974]] [ 0.30000016]\n",
      "360 6.82812e-15 [[ 0.29999974]] [ 0.30000016]\n",
      "380 6.82812e-15 [[ 0.29999974]] [ 0.30000016]\n",
      "400 6.82812e-15 [[ 0.29999974]] [ 0.30000016]\n",
      "420 6.82812e-15 [[ 0.29999974]] [ 0.30000016]\n",
      "440 6.82812e-15 [[ 0.29999974]] [ 0.30000016]\n",
      "460 6.82812e-15 [[ 0.29999974]] [ 0.30000016]\n",
      "480 6.82812e-15 [[ 0.29999974]] [ 0.30000016]\n",
      "500 6.82812e-15 [[ 0.29999974]] [ 0.30000016]\n",
      "520 6.82812e-15 [[ 0.29999974]] [ 0.30000016]\n",
      "540 6.82812e-15 [[ 0.29999974]] [ 0.30000016]\n",
      "560 6.82812e-15 [[ 0.29999974]] [ 0.30000016]\n",
      "580 6.82812e-15 [[ 0.29999974]] [ 0.30000016]\n",
      "600 6.82812e-15 [[ 0.29999974]] [ 0.30000016]\n",
      "620 6.82812e-15 [[ 0.29999974]] [ 0.30000016]\n",
      "640 6.82812e-15 [[ 0.29999974]] [ 0.30000016]\n",
      "660 6.82812e-15 [[ 0.29999974]] [ 0.30000016]\n",
      "680 6.82812e-15 [[ 0.29999974]] [ 0.30000016]\n",
      "700 6.82812e-15 [[ 0.29999974]] [ 0.30000016]\n",
      "720 6.82812e-15 [[ 0.29999974]] [ 0.30000016]\n",
      "740 6.82812e-15 [[ 0.29999974]] [ 0.30000016]\n",
      "760 6.82812e-15 [[ 0.29999974]] [ 0.30000016]\n",
      "780 6.82812e-15 [[ 0.29999974]] [ 0.30000016]\n",
      "800 6.82812e-15 [[ 0.29999974]] [ 0.30000016]\n",
      "820 6.82812e-15 [[ 0.29999974]] [ 0.30000016]\n",
      "840 6.82812e-15 [[ 0.29999974]] [ 0.30000016]\n",
      "860 6.82812e-15 [[ 0.29999974]] [ 0.30000016]\n",
      "880 6.82812e-15 [[ 0.29999974]] [ 0.30000016]\n",
      "900 6.82812e-15 [[ 0.29999974]] [ 0.30000016]\n",
      "920 6.82812e-15 [[ 0.29999974]] [ 0.30000016]\n",
      "940 6.82812e-15 [[ 0.29999974]] [ 0.30000016]\n",
      "960 6.82812e-15 [[ 0.29999974]] [ 0.30000016]\n",
      "980 6.82812e-15 [[ 0.29999974]] [ 0.30000016]\n",
      "1000 6.82812e-15 [[ 0.29999974]] [ 0.30000016]\n"
     ]
    }
   ],
   "source": [
    "config = tf.ConfigProto(device_count = {'GPU': 1})\n",
    "config.gpu_options.allow_growth = True\n",
    "sess = tf.Session(config=config)\n",
    "\n",
    "sess.run(init) # very important\n",
    "\n",
    "fig = plot.figure()\n",
    "ax = fig.add_subplot(1,1,1)\n",
    "ax.scatter(X_data, y_data)\n",
    "plot.show()\n",
    "\n",
    "for step in range(1001):\n",
    "    if step % 20 == 0:\n",
    "        print(step, sess.run(loss), sess.run(Weights), sess.run(biases))\n",
    "    sess.run(train)\n",
    "\n",
    "sess.close()\n",
    "    "
   ]
  },
  {
   "cell_type": "code",
   "execution_count": null,
   "metadata": {
    "collapsed": true
   },
   "outputs": [],
   "source": []
  },
  {
   "cell_type": "code",
   "execution_count": null,
   "metadata": {
    "collapsed": true
   },
   "outputs": [],
   "source": []
  }
 ],
 "metadata": {
  "kernelspec": {
   "display_name": "Python 3",
   "language": "python",
   "name": "python3"
  },
  "language_info": {
   "codemirror_mode": {
    "name": "ipython",
    "version": 3
   },
   "file_extension": ".py",
   "mimetype": "text/x-python",
   "name": "python",
   "nbconvert_exporter": "python",
   "pygments_lexer": "ipython3",
   "version": "3.6.0"
  }
 },
 "nbformat": 4,
 "nbformat_minor": 2
}
