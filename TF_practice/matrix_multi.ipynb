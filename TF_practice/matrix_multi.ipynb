{
 "cells": [
  {
   "cell_type": "code",
   "execution_count": 1,
   "metadata": {
    "collapsed": true
   },
   "outputs": [],
   "source": [
    "import tensorflow as tf"
   ]
  },
  {
   "cell_type": "code",
   "execution_count": 8,
   "metadata": {
    "collapsed": false
   },
   "outputs": [
    {
     "name": "stdout",
     "output_type": "stream",
     "text": [
      "<tf.Variable 'Variable_10:0' shape=(2, 3) dtype=float32_ref>\n",
      "<tf.Variable 'Variable_11:0' shape=(3, 1) dtype=float32_ref>\n",
      "Tensor(\"MatMul_5:0\", shape=(2, 1), dtype=float32)\n",
      "[[ 1.3247174 ]\n",
      " [ 0.84012222]]\n"
     ]
    }
   ],
   "source": [
    "matrix1 = tf.Variable(tf.random_uniform([2,3], 1.0, 0.0))\n",
    "matrix2 = tf.Variable(tf.random_uniform([3,1], 1.0, 0.0))\n",
    "product = tf.matmul(matrix1, matrix2)\n",
    "\n",
    "print(matrix1)\n",
    "print(matrix2)\n",
    "print(product)\n",
    "init = tf.global_variables_initializer()\n",
    "\n",
    "sess = tf.Session()\n",
    "sess.run(init)\n",
    "result = sess.run(product)\n",
    "print(result)\n",
    "sess.close()\n"
   ]
  },
  {
   "cell_type": "code",
   "execution_count": null,
   "metadata": {
    "collapsed": true
   },
   "outputs": [],
   "source": []
  }
 ],
 "metadata": {
  "kernelspec": {
   "display_name": "Python 3",
   "language": "python",
   "name": "python3"
  },
  "language_info": {
   "codemirror_mode": {
    "name": "ipython",
    "version": 3
   },
   "file_extension": ".py",
   "mimetype": "text/x-python",
   "name": "python",
   "nbconvert_exporter": "python",
   "pygments_lexer": "ipython3",
   "version": "3.6.0"
  }
 },
 "nbformat": 4,
 "nbformat_minor": 2
}
