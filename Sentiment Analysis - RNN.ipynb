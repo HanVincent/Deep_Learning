{
 "cells": [
  {
   "cell_type": "code",
   "execution_count": null,
   "metadata": {
    "collapsed": true
   },
   "outputs": [],
   "source": [
    "### Follow https://nthu-datalab.github.io/ml/labs/13_Sentiment_Analysis_and_Neural_Machine_Translation/13_Sentiment_Analysis_and_Neural_Machine_Translation.html\n",
    "# It contains two topic about RNN (two examples)\n",
    "# 1. Sentiment Analysis\n",
    "# 2. Neural Machine Translation"
   ]
  },
  {
   "cell_type": "code",
   "execution_count": null,
   "metadata": {},
   "outputs": [],
   "source": [
    "import os\n",
    "\n",
    "def read_file(directory):\n",
    "    data = []\n",
    "    print(os.listdir(directory))\n",
    "    for f in os.listdir(directory):\n",
    "        content = open(directory + f, 'r', encoding='utf8')\n",
    "        data.append((content, f[-5]))\n",
    "\n",
    "    return data\n",
    "data = read_file('../dataset/aclImdb/train/neg/')\n",
    "print(data[:10])"
   ]
  },
  {
   "cell_type": "code",
   "execution_count": null,
   "metadata": {},
   "outputs": [],
   "source": [
    "ls '../dataset/aclImdb/train/neg/'"
   ]
  },
  {
   "cell_type": "code",
   "execution_count": null,
   "metadata": {},
   "outputs": [],
   "source": [
    "'''資料格式不同，先跳過顯示 data 部分'''\n",
    "open\n",
    "import pandas as pd\n",
    "\n",
    "train_csv = pd.read_csv('dataset/imdb/train.csv')\n",
    "test_csv = pd.read_csv('dataset/imdb/test.csv')\n",
    "\n",
    "print(train_csv.head(n=10))"
   ]
  },
  {
   "cell_type": "code",
   "execution_count": null,
   "metadata": {},
   "outputs": [],
   "source": [
    "import spacy\n",
    "\n",
    "nlp = spacy.load('en')\n",
    "w_apple = nlp('apple')\n",
    "w_banana = nlp('banana')\n",
    "w_mac = nlp('mac')\n",
    "\n",
    "print(\"%s vs %s: %.6f\" % (w_apple, w_banana, w_apple.similarity(w_banana)))\n",
    "print(\"%s vs %s: %.6f\" % (w_apple, w_mac, w_apple.similarity(w_mac)))\n",
    "print(\"%s vs %s: %.6f\" % (w_banana, w_mac, w_banana.similarity(w_mac)))\n",
    "# Do not know why"
   ]
  },
  {
   "cell_type": "code",
   "execution_count": null,
   "metadata": {
    "collapsed": true
   },
   "outputs": [],
   "source": []
  },
  {
   "cell_type": "code",
   "execution_count": null,
   "metadata": {
    "collapsed": true
   },
   "outputs": [],
   "source": [
    "def solution(S, T):\n",
    "    # write your code in Python 3.6\n",
    "    sh, sm, ss = [int(s) for s in S.split(':')]\n",
    "    th, tm, ts = [int(t) for t in T.split(':')]\n",
    "    \n",
    "    all_chances = [ \"{:02d}:{:02d}:{:02d}\".format(h, m, s) \n",
    "        for h in range(sh, th+1) for m in range(sm, tm+1) for s in range(ss, ts+1)]\n",
    "    valid_chances = list(filter(lambda x: len(set(x)) < 4, all_chances))\n",
    "    print(len(valid_chances))"
   ]
  },
  {
   "cell_type": "code",
   "execution_count": null,
   "metadata": {},
   "outputs": [],
   "source": [
    "solution(\"00:22:21\", \"22:22:23\")"
   ]
  },
  {
   "cell_type": "code",
   "execution_count": null,
   "metadata": {},
   "outputs": [],
   "source": [
    "if not '':\n",
    "    print(\"D\")"
   ]
  },
  {
   "cell_type": "code",
   "execution_count": null,
   "metadata": {
    "collapsed": true
   },
   "outputs": [],
   "source": []
  }
 ],
 "metadata": {
  "kernelspec": {
   "display_name": "Python 3",
   "language": "python",
   "name": "python3"
  },
  "language_info": {
   "codemirror_mode": {
    "name": "ipython",
    "version": 3
   },
   "file_extension": ".py",
   "mimetype": "text/x-python",
   "name": "python",
   "nbconvert_exporter": "python",
   "pygments_lexer": "ipython3",
   "version": "3.6.3"
  }
 },
 "nbformat": 4,
 "nbformat_minor": 2
}
