{
 "cells": [
  {
   "cell_type": "code",
   "execution_count": 1,
   "metadata": {},
   "outputs": [],
   "source": [
    "from keras.datasets import mnist\n",
    "from keras.utils import np_utils"
   ]
  },
  {
   "cell_type": "code",
   "execution_count": 4,
   "metadata": {},
   "outputs": [],
   "source": [
    "def load_data():\n",
    "    (x_train, y_train), (x_test, y_test) = mnist.load_data()\n",
    "    \n",
    "    print(x_train.shape)\n",
    "    x_train = x_train.reshape(x_train.shape[0], 28*28)\n",
    "    x_test  = x_test.reshape(x_test.shape[0], 28*28)\n",
    "    x_train = x_train.astype('float32')\n",
    "    x_test  = x_test.astype('float32')\n",
    "    x_train = x_train / 255\n",
    "    x_test  = x_test / 255\n",
    "    \n",
    "    y_train = np_utils.to_categorical(y_train, 10)\n",
    "    y_test  = np_utils.to_categorical(y_test, 10)\n",
    "    \n",
    "    return (x_train, y_train), (x_test, y_test)"
   ]
  },
  {
   "cell_type": "code",
   "execution_count": 10,
   "metadata": {},
   "outputs": [],
   "source": [
    "import numpy as np\n",
    "from keras.models import Sequential\n",
    "from keras.layers.core import Dense, Activation\n",
    "from keras.optimizers import Adam, \n",
    "\n",
    "def build_model():\n",
    "    model = Sequential()\n",
    "    \n",
    "    model.add(Dense(input_dim=28*28, units=500, activation='relu'))\n",
    "    model.add(Dense(units=500, activation='relu'))\n",
    "    model.add(Dense(units=500, activation='relu'))\n",
    "    model.add(Dense(units=10, activation='softmax'))\n",
    "    model.summary()\n",
    "    return model"
   ]
  },
  {
   "cell_type": "code",
   "execution_count": 15,
   "metadata": {},
   "outputs": [
    {
     "name": "stdout",
     "output_type": "stream",
     "text": [
      "(60000, 28, 28)\n",
      "_________________________________________________________________\n",
      "Layer (type)                 Output Shape              Param #   \n",
      "=================================================================\n",
      "dense_29 (Dense)             (None, 500)               392500    \n",
      "_________________________________________________________________\n",
      "dense_30 (Dense)             (None, 500)               250500    \n",
      "_________________________________________________________________\n",
      "dense_31 (Dense)             (None, 500)               250500    \n",
      "_________________________________________________________________\n",
      "dense_32 (Dense)             (None, 10)                5010      \n",
      "=================================================================\n",
      "Total params: 898,510\n",
      "Trainable params: 898,510\n",
      "Non-trainable params: 0\n",
      "_________________________________________________________________\n",
      "Epoch 1/1\n",
      "60000/60000 [==============================] - 13s 219us/step - loss: 0.1983 - acc: 0.9400\n",
      "60000/60000 [==============================] - 4s 62us/step\n",
      "Train Acc: [0.0819590277522492, 0.9753]\n",
      "10000/10000 [==============================] - 1s 61us/step\n",
      "Test Acc: [0.09995975977154449, 0.9677]\n"
     ]
    }
   ],
   "source": [
    "(x_train, y_train), (x_test, y_test) = load_data()\n",
    "model = build_model()\n",
    "\n",
    "model.compile(loss='categorical_crossentropy', optimizer='adam', metrics=['accuracy'])\n",
    "model.fit(x_train, y_train)\n",
    "\n",
    "score = model.evaluate(x_train, y_train)\n",
    "print('Train Acc:', score)\n",
    "score = model.evaluate(x_test, y_test)\n",
    "print('Test Acc:', score)"
   ]
  },
  {
   "cell_type": "code",
   "execution_count": null,
   "metadata": {},
   "outputs": [],
   "source": []
  }
 ],
 "metadata": {
  "kernelspec": {
   "display_name": "Python 3",
   "language": "python",
   "name": "python3"
  },
  "language_info": {
   "codemirror_mode": {
    "name": "ipython",
    "version": 3
   },
   "file_extension": ".py",
   "mimetype": "text/x-python",
   "name": "python",
   "nbconvert_exporter": "python",
   "pygments_lexer": "ipython3",
   "version": "3.5.2"
  }
 },
 "nbformat": 4,
 "nbformat_minor": 2
}
